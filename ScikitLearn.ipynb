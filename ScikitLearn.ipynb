{
  "nbformat": 4,
  "nbformat_minor": 0,
  "metadata": {
    "colab": {
      "name": "03_getting_started_with_iris.ipynb",
      "version": "0.3.2",
      "provenance": []
    },
    "kernelspec": {
      "display_name": "Python 3",
      "language": "python",
      "name": "python3"
    }
  },
  "cells": [
    {
      "metadata": {
        "id": "tT7zESfo7rI-",
        "colab_type": "text"
      },
      "cell_type": "markdown",
      "source": [
        "# Getting started with Scikit-Learn: IRIS Dataset\n",
        "\n",
        "\n"
      ]
    },
    {
      "metadata": {
        "id": "XC24zIrb7rJE",
        "colab_type": "text"
      },
      "cell_type": "markdown",
      "source": [
        "## Agenda\n",
        "\n",
        "- What is the famous iris dataset, and how does it relate to machine learning?\n",
        "- How do we load the iris dataset into scikit-learn?\n",
        "- How do we describe a dataset using machine learning terminology?\n",
        "- What are scikit-learn's four key requirements for working with data?"
      ]
    },
    {
      "metadata": {
        "id": "wBaajMEK7rJF",
        "colab_type": "text"
      },
      "cell_type": "markdown",
      "source": [
        "## Introducing the iris dataset"
      ]
    },
    {
      "metadata": {
        "id": "Z_4Nyj0yNsxk",
        "colab_type": "code",
        "colab": {}
      },
      "cell_type": "code",
      "source": [
        ""
      ],
      "execution_count": 0,
      "outputs": []
    },
    {
      "metadata": {
        "id": "myZXrTKA7rJF",
        "colab_type": "text"
      },
      "cell_type": "markdown",
      "source": [
        "![Iris](https://github.com/justmarkham/scikit-learn-videos/blob/master/images/03_iris.png?raw=1)"
      ]
    },
    {
      "metadata": {
        "id": "4qMO49Ae7rJF",
        "colab_type": "text"
      },
      "cell_type": "markdown",
      "source": [
        "- 50 samples of 3 different species of iris (150 samples total)\n",
        "- Measurements: sepal length, sepal width, petal length, petal width"
      ]
    },
    {
      "metadata": {
        "id": "PdBsOKgF7rJG",
        "colab_type": "code",
        "colab": {
          "base_uri": "https://localhost:8080/",
          "height": 220
        },
        "outputId": "08c20658-6d70-449e-9777-65b3131e89d4"
      },
      "cell_type": "code",
      "source": [
        "from IPython.display import IFrame\n",
        "IFrame('http://archive.ics.uci.edu/ml/machine-learning-databases/iris/iris.data', width=300, height=200)"
      ],
      "execution_count": 2,
      "outputs": [
        {
          "output_type": "execute_result",
          "data": {
            "text/html": [
              "\n",
              "        <iframe\n",
              "            width=\"300\"\n",
              "            height=\"200\"\n",
              "            src=\"http://archive.ics.uci.edu/ml/machine-learning-databases/iris/iris.data\"\n",
              "            frameborder=\"0\"\n",
              "            allowfullscreen\n",
              "        ></iframe>\n",
              "        "
            ],
            "text/plain": [
              "<IPython.lib.display.IFrame at 0x7f1e53a657f0>"
            ]
          },
          "metadata": {
            "tags": []
          },
          "execution_count": 2
        }
      ]
    },
    {
      "metadata": {
        "id": "SR3mungA7rJV",
        "colab_type": "text"
      },
      "cell_type": "markdown",
      "source": [
        "## Task: Predict the species of an iris using the measurements like petal length, petal width, sepal length, sepal width\n",
        "- Learn more about the iris dataset: [UCI Machine Learning Repository](http://archive.ics.uci.edu/ml/datasets/Iris)"
      ]
    },
    {
      "metadata": {
        "id": "gSGCQg8N7rJV",
        "colab_type": "text"
      },
      "cell_type": "markdown",
      "source": [
        "## Loading the iris dataset into scikit-learn"
      ]
    },
    {
      "metadata": {
        "id": "OdCiXFDT7rJW",
        "colab_type": "code",
        "colab": {}
      },
      "cell_type": "code",
      "source": [
        "# import load_iris function from datasets module\n",
        "from sklearn.datasets import load_iris"
      ],
      "execution_count": 0,
      "outputs": []
    },
    {
      "metadata": {
        "id": "9nKOpNKb7rJa",
        "colab_type": "code",
        "colab": {
          "base_uri": "https://localhost:8080/",
          "height": 33
        },
        "outputId": "0be3934f-ba58-4570-e55d-18da91b870d0"
      },
      "cell_type": "code",
      "source": [
        "#@title Default title text\n",
        "# save \"bunch\" object containing iris dataset and its attributes\n",
        "iris = load_iris()\n",
        "type(iris)"
      ],
      "execution_count": 8,
      "outputs": [
        {
          "output_type": "execute_result",
          "data": {
            "text/plain": [
              "sklearn.utils.Bunch"
            ]
          },
          "metadata": {
            "tags": []
          },
          "execution_count": 8
        }
      ]
    },
    {
      "metadata": {
        "id": "6eLLvn847rJm",
        "colab_type": "text"
      },
      "cell_type": "markdown",
      "source": [
        "## Machine learning terminology\n",
        "\n",
        "- Each row is an **observation** (also known as: sample, example, instance, record)\n",
        "- Each column is a **feature** (also known as: attribute)\n"
      ]
    },
    {
      "metadata": {
        "id": "eGkLzaYe7rJn",
        "colab_type": "code",
        "colab": {},
        "outputId": "ac392312-24cb-4cb4-8144-0b8dc4d92c57"
      },
      "cell_type": "code",
      "source": [
        "# print the names of the four features\n",
        "print(iris.feature_names)"
      ],
      "execution_count": 0,
      "outputs": [
        {
          "output_type": "stream",
          "text": [
            "['sepal length (cm)', 'sepal width (cm)', 'petal length (cm)', 'petal width (cm)']\n"
          ],
          "name": "stdout"
        }
      ]
    },
    {
      "metadata": {
        "id": "Xlo-E1CUGDwr",
        "colab_type": "text"
      },
      "cell_type": "markdown",
      "source": [
        "## Number of data points and features in the dataset\n"
      ]
    },
    {
      "metadata": {
        "id": "kSjinfhy7rJr",
        "colab_type": "code",
        "colab": {
          "base_uri": "https://localhost:8080/",
          "height": 100
        },
        "outputId": "0dc9367d-6b5b-4e32-fd9f-8fbf030d8720"
      },
      "cell_type": "code",
      "source": [
        "#@title Default title text\n",
        "# print integers representing the species of each observation\n",
        "X = iris.data\n",
        "Y = iris.target\n",
        "\n",
        "print(Y.shape) \n",
        "\n",
        "print(\"Shape of data is \", X.shape) #Matrix of shape (n, f) where n is the number of observations and f is the number of features per observation\n",
        "'''\n",
        "Matrix of shape(n, ) where n is number of observations and each value of y \n",
        "represents the label of the corresponding X index.\n",
        "'''\n",
        "print(\"Shape of target is \", Y.shape)\n",
        "\n",
        "print(type(X))\n",
        "print(type(Y))\n"
      ],
      "execution_count": 21,
      "outputs": [
        {
          "output_type": "stream",
          "text": [
            "(150,)\n",
            "Shape of data is  (150, 4)\n",
            "Shape of target is  (150,)\n",
            "<class 'numpy.ndarray'>\n",
            "<class 'numpy.ndarray'>\n"
          ],
          "name": "stdout"
        }
      ]
    },
    {
      "metadata": {
        "id": "nWAcMcLGItBe",
        "colab_type": "code",
        "colab": {
          "base_uri": "https://localhost:8080/",
          "height": 116
        },
        "outputId": "c833f7e4-e83f-4325-8c60-2152441f0e68"
      },
      "cell_type": "code",
      "source": [
        "print(X.shape)\n",
        "print(Y.shape)\n",
        "\n",
        "print(\"Target Names and their encoding\")\n",
        "print(iris.target_names)\n",
        "\n",
        "print(\"First observation = \", X[0,:])\n",
        "print(\"Target of first observation = \", Y[0])"
      ],
      "execution_count": 28,
      "outputs": [
        {
          "output_type": "stream",
          "text": [
            "(150, 4)\n",
            "(150,)\n",
            "Target Names and their encoding\n",
            "['setosa' 'versicolor' 'virginica']\n",
            "First observation =  [5.1 3.5 1.4 0.2]\n",
            "Target of first observation =  0\n"
          ],
          "name": "stdout"
        }
      ]
    },
    {
      "metadata": {
        "id": "awNDWvQ67rJ4",
        "colab_type": "text"
      },
      "cell_type": "markdown",
      "source": [
        "- Each value we are predicting is the **response** (also known as: target)\n",
        "- **Classification** is supervised learning in which the response is categorical\n",
        "- **Regression** is supervised learning in which the response is ordered and continuous"
      ]
    },
    {
      "metadata": {
        "id": "yvulyqCG7rJ7",
        "colab_type": "text"
      },
      "cell_type": "markdown",
      "source": [
        "## Requirements for working with data in scikit-learn\n",
        "\n",
        "1. Features and response are **separate objects**\n",
        "2. Features and response should be **numeric**\n",
        "3. Features and response should be **NumPy arrays**\n",
        "4. Features and response should have **specific shapes**"
      ]
    },
    {
      "metadata": {
        "id": "wxlTRkjy7rKN",
        "colab_type": "code",
        "colab": {}
      },
      "cell_type": "code",
      "source": [
        "# store feature matrix in \"X\"\n",
        "X = iris.data\n",
        "\n",
        "# store response vector in \"y\"\n",
        "y = iris.target\n"
      ],
      "execution_count": 0,
      "outputs": []
    },
    {
      "metadata": {
        "id": "RVOeykj0C-Y_",
        "colab_type": "text"
      },
      "cell_type": "markdown",
      "source": [
        "# Training a machine learning model with scikit-learn: IRIS Dataset\n",
        "\n",
        "\n",
        "## Agenda\n",
        "\n",
        "- What is the **K-nearest neighbors** classification model?\n",
        "- What are the four steps for **model training and prediction** in scikit-learn?\n",
        "- How can I apply this pattern to **other machine learning models**?\n",
        "\n"
      ]
    },
    {
      "metadata": {
        "id": "KPv_t8dPDKOm",
        "colab_type": "text"
      },
      "cell_type": "markdown",
      "source": [
        "## K-nearest neighbors (KNN) classification\n",
        "\n",
        "1. Pick a value for K.\n",
        "2. Search for the K observations in the training data that are \"nearest\" to the measurements of the unknown iris.\n",
        "3. Use the most popular response value from the K nearest neighbors as the predicted response value for the unknown iris.\n"
      ]
    },
    {
      "metadata": {
        "id": "z9wE9cBZDSf3",
        "colab_type": "text"
      },
      "cell_type": "markdown",
      "source": [
        "### Example training data\n",
        "\n",
        "![Training data](https://github.com/justmarkham/scikit-learn-videos/blob/master/images/04_knn_dataset.png?raw=1)"
      ]
    },
    {
      "metadata": {
        "id": "ByeOY8XTDWFD",
        "colab_type": "text"
      },
      "cell_type": "markdown",
      "source": [
        "### KNN classification map (K=1)\n",
        "\n",
        "![1NN classification map](https://github.com/justmarkham/scikit-learn-videos/blob/master/images/04_1nn_map.png?raw=1)"
      ]
    },
    {
      "metadata": {
        "id": "lQMO1NrPDY4Z",
        "colab_type": "text"
      },
      "cell_type": "markdown",
      "source": [
        "### KNN classification map (K=5)\n",
        "\n",
        "![5NN classification map](https://github.com/justmarkham/scikit-learn-videos/blob/master/images/04_5nn_map.png?raw=1)\n"
      ]
    },
    {
      "metadata": {
        "id": "mYJsCi7tDfBY",
        "colab_type": "text"
      },
      "cell_type": "markdown",
      "source": [
        "Loading the data\n"
      ]
    },
    {
      "metadata": {
        "id": "kNmWkfOF7zqB",
        "colab_type": "text"
      },
      "cell_type": "markdown",
      "source": [
        "## scikit-learn 4-step modeling pattern"
      ]
    },
    {
      "metadata": {
        "id": "hcstYfO57zqB",
        "colab_type": "text"
      },
      "cell_type": "markdown",
      "source": [
        "**Step 1:** Import the class you plan to use"
      ]
    },
    {
      "metadata": {
        "id": "imBihMM37zqD",
        "colab_type": "code",
        "colab": {}
      },
      "cell_type": "code",
      "source": [
        "from sklearn.neighbors import KNeighborsClassifier"
      ],
      "execution_count": 0,
      "outputs": []
    },
    {
      "metadata": {
        "id": "bdGPFzYp7zqF",
        "colab_type": "text"
      },
      "cell_type": "markdown",
      "source": [
        "**Step 2:** \"Instantiate\" the \"estimator\"\n",
        "\n",
        "- \"Estimator\" is scikit-learn's term for model\n",
        "- \"Instantiate\" means \"make an instance of\""
      ]
    },
    {
      "metadata": {
        "id": "ARG3crRW7zqG",
        "colab_type": "code",
        "colab": {}
      },
      "cell_type": "code",
      "source": [
        "knn = KNeighborsClassifier(n_neighbors=1)"
      ],
      "execution_count": 0,
      "outputs": []
    },
    {
      "metadata": {
        "id": "Wqc6m8FS7zqJ",
        "colab_type": "text"
      },
      "cell_type": "markdown",
      "source": [
        "- Name of the object does not matter\n",
        "- Can specify tuning parameters (aka \"hyperparameters\") during this step\n",
        "- All parameters not specified are set to their defaults"
      ]
    },
    {
      "metadata": {
        "id": "2c_hSfGA7zqK",
        "colab_type": "code",
        "colab": {
          "base_uri": "https://localhost:8080/",
          "height": 66
        },
        "outputId": "f21ffcfd-eb59-400b-88a2-46e2eb35b49b"
      },
      "cell_type": "code",
      "source": [
        "print(knn)"
      ],
      "execution_count": 33,
      "outputs": [
        {
          "output_type": "stream",
          "text": [
            "KNeighborsClassifier(algorithm='auto', leaf_size=30, metric='minkowski',\n",
            "           metric_params=None, n_jobs=1, n_neighbors=1, p=2,\n",
            "           weights='uniform')\n"
          ],
          "name": "stdout"
        }
      ]
    },
    {
      "metadata": {
        "id": "6l6HDd4x7zqO",
        "colab_type": "text"
      },
      "cell_type": "markdown",
      "source": [
        "**Step 3:** Fit the model with data (aka \"model training\")\n",
        "\n",
        "- Model is learning the relationship between X and y\n",
        "- Occurs in-place"
      ]
    },
    {
      "metadata": {
        "id": "hA1tzMg27zqP",
        "colab_type": "code",
        "colab": {
          "base_uri": "https://localhost:8080/",
          "height": 66
        },
        "outputId": "fb9b0788-31c0-4639-cfca-2e9a36b56099"
      },
      "cell_type": "code",
      "source": [
        "knn.fit(X, y)"
      ],
      "execution_count": 34,
      "outputs": [
        {
          "output_type": "execute_result",
          "data": {
            "text/plain": [
              "KNeighborsClassifier(algorithm='auto', leaf_size=30, metric='minkowski',\n",
              "           metric_params=None, n_jobs=1, n_neighbors=1, p=2,\n",
              "           weights='uniform')"
            ]
          },
          "metadata": {
            "tags": []
          },
          "execution_count": 34
        }
      ]
    },
    {
      "metadata": {
        "id": "fCv-mNB37zqR",
        "colab_type": "text"
      },
      "cell_type": "markdown",
      "source": [
        "**Step 4:** Predict the response for a new observation\n",
        "\n",
        "- New observations are called \"out-of-sample\" data\n",
        "- Uses the information it learned during the model training process"
      ]
    },
    {
      "metadata": {
        "id": "QgdUQT3T7zqS",
        "colab_type": "code",
        "colab": {
          "base_uri": "https://localhost:8080/",
          "height": 33
        },
        "outputId": "534daf4d-67dc-4f03-ee4c-3c7ba5ab7596"
      },
      "cell_type": "code",
      "source": [
        "knn.predict([[3, 5, 4, 2]])"
      ],
      "execution_count": 35,
      "outputs": [
        {
          "output_type": "execute_result",
          "data": {
            "text/plain": [
              "array([2])"
            ]
          },
          "metadata": {
            "tags": []
          },
          "execution_count": 35
        }
      ]
    },
    {
      "metadata": {
        "id": "zaBr5z167zqW",
        "colab_type": "text"
      },
      "cell_type": "markdown",
      "source": [
        "- Returns a NumPy array\n",
        "- Can predict for multiple observations at once"
      ]
    },
    {
      "metadata": {
        "id": "Cyp_6NCF7zqY",
        "colab_type": "code",
        "colab": {
          "base_uri": "https://localhost:8080/",
          "height": 33
        },
        "outputId": "203515ca-301b-4edf-b78e-6d273446d0c4"
      },
      "cell_type": "code",
      "source": [
        "X_new = [[3, 5, 4, 2], [5, 4, 3, 2]]\n",
        "knn.predict(X_new)"
      ],
      "execution_count": 36,
      "outputs": [
        {
          "output_type": "execute_result",
          "data": {
            "text/plain": [
              "array([2, 1])"
            ]
          },
          "metadata": {
            "tags": []
          },
          "execution_count": 36
        }
      ]
    },
    {
      "metadata": {
        "id": "77kuj75iJmBf",
        "colab_type": "code",
        "colab": {}
      },
      "cell_type": "code",
      "source": [
        "\n",
        "# from sklearn.neighbors import KNeighborsClassifier\n",
        "\n",
        "# knn = KNeighborsClassifier(n_neighbors=1)\n",
        "# print(knn)\n",
        "# knn.fit(X, y)\n",
        "# knn.predict([[3, 5, 4, 2]])\n",
        "# X_new = [[3, 5, 4, 2], [5, 4, 3, 2]]\n",
        "# knn.predict(X_new)"
      ],
      "execution_count": 0,
      "outputs": []
    },
    {
      "metadata": {
        "id": "j2D7LVwO7zqd",
        "colab_type": "text"
      },
      "cell_type": "markdown",
      "source": [
        "## Using a different value for K"
      ]
    },
    {
      "metadata": {
        "id": "Q1XMEmX07zqe",
        "colab_type": "code",
        "colab": {
          "base_uri": "https://localhost:8080/",
          "height": 33
        },
        "outputId": "9c9e132f-ceb8-4519-c6b1-35d28364de98"
      },
      "cell_type": "code",
      "source": [
        "# instantiate the model (using the value K=5)\n",
        "knn = KNeighborsClassifier(n_neighbors=5)\n",
        "\n",
        "# fit the model with data\n",
        "knn.fit(X, y)\n",
        "\n",
        "# predict the response for new observations\n",
        "knn.predict(X_new)"
      ],
      "execution_count": 37,
      "outputs": [
        {
          "output_type": "execute_result",
          "data": {
            "text/plain": [
              "array([1, 1])"
            ]
          },
          "metadata": {
            "tags": []
          },
          "execution_count": 37
        }
      ]
    },
    {
      "metadata": {
        "id": "4mnU3_7A7zqh",
        "colab_type": "text"
      },
      "cell_type": "markdown",
      "source": [
        "## Using a different classification model"
      ]
    },
    {
      "metadata": {
        "id": "RZB09k6e7zqi",
        "colab_type": "code",
        "colab": {
          "base_uri": "https://localhost:8080/",
          "height": 33
        },
        "outputId": "d4c058b3-bc40-4d3b-e6c2-8baa7827364f"
      },
      "cell_type": "code",
      "source": [
        "# import the class\n",
        "from sklearn.linear_model import LogisticRegression\n",
        "\n",
        "# instantiate the model (using the default parameters)\n",
        "logreg = LogisticRegression()\n",
        "\n",
        "# fit the model with data\n",
        "logreg.fit(X, y)\n",
        "\n",
        "# predict the response for new observations\n",
        "logreg.predict(X_new)"
      ],
      "execution_count": 38,
      "outputs": [
        {
          "output_type": "execute_result",
          "data": {
            "text/plain": [
              "array([2, 0])"
            ]
          },
          "metadata": {
            "tags": []
          },
          "execution_count": 38
        }
      ]
    },
    {
      "metadata": {
        "id": "j05BN0IPJ36v",
        "colab_type": "text"
      },
      "cell_type": "markdown",
      "source": [
        "## HomeWork / Exercise\n",
        "### Implement a classifier for the IRIS dataset using DecisionTree in Scikit-Learn"
      ]
    },
    {
      "metadata": {
        "id": "3GYWOKxjEMWE",
        "colab_type": "code",
        "colab": {}
      },
      "cell_type": "code",
      "source": [
        "# Your code goes here....."
      ],
      "execution_count": 0,
      "outputs": []
    },
    {
      "metadata": {
        "id": "qvxTE8Qr75Cn",
        "colab_type": "text"
      },
      "cell_type": "markdown",
      "source": [
        "# Comparing machine learning models in scikit-learn"
      ]
    },
    {
      "metadata": {
        "id": "0pJa1myp75Co",
        "colab_type": "text"
      },
      "cell_type": "markdown",
      "source": [
        "## Agenda\n",
        "\n",
        "- How do I choose **which model to use** for my supervised learning task?\n",
        "- How do I choose the **best tuning parameters** for that model?\n",
        "- How do I estimate the **likely performance of my model** on out-of-sample data?"
      ]
    },
    {
      "metadata": {
        "id": "vF1cgZuL75Cp",
        "colab_type": "text"
      },
      "cell_type": "markdown",
      "source": [
        "## Review\n",
        "\n",
        "- Classification task: Predicting the species of an unknown iris\n",
        "- Used three classification models: KNN (K=1), KNN (K=5), logistic regression\n",
        "- Need a way to choose between the models\n",
        "\n",
        "**Solution:** Model evaluation procedures"
      ]
    },
    {
      "metadata": {
        "id": "w7iYZJkN75Cp",
        "colab_type": "text"
      },
      "cell_type": "markdown",
      "source": [
        "## Evaluation procedure #1: Train and test on the entire dataset"
      ]
    },
    {
      "metadata": {
        "id": "AXKBRi5r75Cq",
        "colab_type": "text"
      },
      "cell_type": "markdown",
      "source": [
        "1. Train the model on the **entire dataset**.\n",
        "2. Test the model on the **same dataset**, and evaluate how well we did by comparing the **predicted** response values with the **true** response values."
      ]
    },
    {
      "metadata": {
        "id": "hRZeyZk275Cr",
        "colab_type": "code",
        "colab": {}
      },
      "cell_type": "code",
      "source": [
        "# read in the iris data\n",
        "from sklearn.datasets import load_iris\n",
        "iris = load_iris()\n",
        "\n",
        "# create X (features) and y (response)\n",
        "X = iris.data\n",
        "y = iris.target"
      ],
      "execution_count": 0,
      "outputs": []
    },
    {
      "metadata": {
        "id": "ZE6LyOPF75Cv",
        "colab_type": "text"
      },
      "cell_type": "markdown",
      "source": [
        "### Logistic regression"
      ]
    },
    {
      "metadata": {
        "id": "AL0sqHAQ75Cv",
        "colab_type": "code",
        "colab": {
          "base_uri": "https://localhost:8080/",
          "height": 33
        },
        "outputId": "bb0f8c5a-545f-439a-c745-8ed23e379be1"
      },
      "cell_type": "code",
      "source": [
        "# import the class\n",
        "from sklearn.linear_model import LogisticRegression\n",
        "\n",
        "# instantiate the model (using the default parameters)\n",
        "logreg = LogisticRegression()\n",
        "\n",
        "# fit the model with data\n",
        "logreg.fit(X, y)\n",
        "\n",
        "# predict the response values for the observations in X\n",
        "logreg.predict(X)"
      ],
      "execution_count": 41,
      "outputs": [
        {
          "output_type": "stream",
          "text": [
            "(150, 4)\n"
          ],
          "name": "stdout"
        }
      ]
    },
    {
      "metadata": {
        "id": "Vne8Ohp575Cz",
        "colab_type": "code",
        "colab": {},
        "outputId": "c8f87157-07fc-4f9f-843e-60d775a30aaf"
      },
      "cell_type": "code",
      "source": [
        "# store the predicted response values\n",
        "y_pred = logreg.predict(X)\n",
        "\n",
        "# check how many predictions were generated\n",
        "len(y_pred)"
      ],
      "execution_count": 0,
      "outputs": [
        {
          "output_type": "execute_result",
          "data": {
            "text/plain": [
              "150"
            ]
          },
          "metadata": {
            "tags": []
          },
          "execution_count": 4
        }
      ]
    },
    {
      "metadata": {
        "id": "0iej8oLt75C2",
        "colab_type": "text"
      },
      "cell_type": "markdown",
      "source": [
        "**Classification** accuracy:\n",
        "\n",
        "- **Proportion** of correct predictions\n",
        "- Common **evaluation metric** for classification problems"
      ]
    },
    {
      "metadata": {
        "id": "EpaLPiZe75C2",
        "colab_type": "code",
        "colab": {},
        "outputId": "886ab287-3b13-4e05-e340-80a30a8dcbb5"
      },
      "cell_type": "code",
      "source": [
        "# compute classification accuracy for the logistic regression model\n",
        "from sklearn import metrics\n",
        "print(metrics.accuracy_score(y, y_pred))"
      ],
      "execution_count": 0,
      "outputs": [
        {
          "output_type": "stream",
          "text": [
            "0.96\n"
          ],
          "name": "stdout"
        }
      ]
    },
    {
      "metadata": {
        "id": "SC-pApHX75C6",
        "colab_type": "text"
      },
      "cell_type": "markdown",
      "source": [
        "- Known as **training accuracy** when you train and test the model on the same data"
      ]
    },
    {
      "metadata": {
        "id": "v8fCR2Sg75C7",
        "colab_type": "text"
      },
      "cell_type": "markdown",
      "source": [
        "### KNN (K=5)"
      ]
    },
    {
      "metadata": {
        "id": "Wtag-mmj75C7",
        "colab_type": "code",
        "colab": {},
        "outputId": "17905824-751f-4844-dfec-a82975976443"
      },
      "cell_type": "code",
      "source": [
        "from sklearn.neighbors import KNeighborsClassifier\n",
        "knn = KNeighborsClassifier(n_neighbors=5)\n",
        "knn.fit(X, y)\n",
        "y_pred = knn.predict(X)\n",
        "print(metrics.accuracy_score(y, y_pred))"
      ],
      "execution_count": 0,
      "outputs": [
        {
          "output_type": "stream",
          "text": [
            "0.9666666666666667\n"
          ],
          "name": "stdout"
        }
      ]
    },
    {
      "metadata": {
        "id": "yUMiU5bW75C9",
        "colab_type": "text"
      },
      "cell_type": "markdown",
      "source": [
        "### KNN (K=1)"
      ]
    },
    {
      "metadata": {
        "id": "7u-thrAZ75C-",
        "colab_type": "code",
        "colab": {},
        "outputId": "b9cf337c-ac1c-4337-83c3-df3b6424a953"
      },
      "cell_type": "code",
      "source": [
        "knn = KNeighborsClassifier(n_neighbors=1)\n",
        "knn.fit(X, y)\n",
        "y_pred = knn.predict(X)\n",
        "print(metrics.accuracy_score(y, y_pred))"
      ],
      "execution_count": 0,
      "outputs": [
        {
          "output_type": "stream",
          "text": [
            "1.0\n"
          ],
          "name": "stdout"
        }
      ]
    },
    {
      "metadata": {
        "id": "nwf1qOe975DC",
        "colab_type": "text"
      },
      "cell_type": "markdown",
      "source": [
        "### Problems with training and testing on the same data\n",
        "\n",
        "- Goal is to estimate likely performance of a model on **out-of-sample data**\n",
        "- But, maximizing training accuracy rewards **overly complex models** that won't necessarily generalize\n",
        "- Unnecessarily complex models **overfit** the training data"
      ]
    },
    {
      "metadata": {
        "id": "Gyf4ouim75DD",
        "colab_type": "text"
      },
      "cell_type": "markdown",
      "source": [
        "![Overfitting](https://github.com/justmarkham/scikit-learn-videos/blob/master/images/05_overfitting.png?raw=1)"
      ]
    },
    {
      "metadata": {
        "id": "AIK4K_ZB75DE",
        "colab_type": "text"
      },
      "cell_type": "markdown",
      "source": [
        "*Image Credit: [Overfitting](http://commons.wikimedia.org/wiki/File:Overfitting.svg#/media/File:Overfitting.svg) by Chabacano. Licensed under GFDL via Wikimedia Commons.*"
      ]
    },
    {
      "metadata": {
        "id": "q-U32gvF75DE",
        "colab_type": "text"
      },
      "cell_type": "markdown",
      "source": [
        "## Evaluation procedure #2: Train/test split"
      ]
    },
    {
      "metadata": {
        "id": "ro5PideU75DF",
        "colab_type": "text"
      },
      "cell_type": "markdown",
      "source": [
        "1. Split the dataset into two pieces: a **training set** and a **testing set**.\n",
        "2. Train the model on the **training set**.\n",
        "3. Test the model on the **testing set**, and evaluate how well we did."
      ]
    },
    {
      "metadata": {
        "id": "q8ATRBgl75DF",
        "colab_type": "code",
        "colab": {
          "base_uri": "https://localhost:8080/",
          "height": 50
        },
        "outputId": "40daa674-3f65-4396-9498-7d627536cf25"
      },
      "cell_type": "code",
      "source": [
        "# print the shapes of X and y\n",
        "print(X.shape)\n",
        "print(y.shape)"
      ],
      "execution_count": 46,
      "outputs": [
        {
          "output_type": "stream",
          "text": [
            "(150, 4)\n",
            "(150,)\n"
          ],
          "name": "stdout"
        }
      ]
    },
    {
      "metadata": {
        "id": "5Og881rJ75DI",
        "colab_type": "code",
        "colab": {}
      },
      "cell_type": "code",
      "source": [
        "# STEP 1: split X and y into training and testing sets\n",
        "from sklearn.model_selection import train_test_split\n",
        "X_train, X_test, y_train, y_test = train_test_split(X, y, test_size=0.4, random_state=4)\n",
        "\n",
        "# Docs for train_test_split: http://scikit-learn.org/stable/modules/generated/sklearn.model_selection.train_test_split.html"
      ],
      "execution_count": 0,
      "outputs": []
    },
    {
      "metadata": {
        "id": "5cUJ8xbl75DK",
        "colab_type": "text"
      },
      "cell_type": "markdown",
      "source": [
        "![Train/test split](https://github.com/justmarkham/scikit-learn-videos/blob/master/images/05_train_test_split.png?raw=1)"
      ]
    },
    {
      "metadata": {
        "id": "z-gZaun875DL",
        "colab_type": "text"
      },
      "cell_type": "markdown",
      "source": [
        "What did this accomplish?\n",
        "\n",
        "- Model can be trained and tested on **different data**\n",
        "- Response values are known for the testing set, and thus **predictions can be evaluated**\n",
        "- **Testing accuracy** is a better estimate than training accuracy of out-of-sample performance"
      ]
    },
    {
      "metadata": {
        "id": "Raja8vhI75DL",
        "colab_type": "code",
        "colab": {
          "base_uri": "https://localhost:8080/",
          "height": 50
        },
        "outputId": "602103e9-5b6b-4941-f044-c76311859224"
      },
      "cell_type": "code",
      "source": [
        "# print the shapes of the new X objects\n",
        "print(X_train.shape)\n",
        "print(X_test.shape)"
      ],
      "execution_count": 48,
      "outputs": [
        {
          "output_type": "stream",
          "text": [
            "(90, 4)\n",
            "(60, 4)\n"
          ],
          "name": "stdout"
        }
      ]
    },
    {
      "metadata": {
        "id": "UTaAQbwI75DO",
        "colab_type": "code",
        "colab": {
          "base_uri": "https://localhost:8080/",
          "height": 50
        },
        "outputId": "d1fe225d-b752-4554-d9e6-c9fb79600844"
      },
      "cell_type": "code",
      "source": [
        "# print the shapes of the new y objects\n",
        "print(y_train.shape)\n",
        "print(y_test.shape)"
      ],
      "execution_count": 49,
      "outputs": [
        {
          "output_type": "stream",
          "text": [
            "(90,)\n",
            "(60,)\n"
          ],
          "name": "stdout"
        }
      ]
    },
    {
      "metadata": {
        "id": "P19uv1DY75DR",
        "colab_type": "code",
        "colab": {
          "base_uri": "https://localhost:8080/",
          "height": 83
        },
        "outputId": "a610f8a9-ff3f-4277-f8fe-118da831f775"
      },
      "cell_type": "code",
      "source": [
        "# STEP 2: train the model on the training set\n",
        "logreg = LogisticRegression()\n",
        "logreg.fit(X_train, y_train)"
      ],
      "execution_count": 50,
      "outputs": [
        {
          "output_type": "execute_result",
          "data": {
            "text/plain": [
              "LogisticRegression(C=1.0, class_weight=None, dual=False, fit_intercept=True,\n",
              "          intercept_scaling=1, max_iter=100, multi_class='ovr', n_jobs=1,\n",
              "          penalty='l2', random_state=None, solver='liblinear', tol=0.0001,\n",
              "          verbose=0, warm_start=False)"
            ]
          },
          "metadata": {
            "tags": []
          },
          "execution_count": 50
        }
      ]
    },
    {
      "metadata": {
        "id": "ZiJB_4rg75DV",
        "colab_type": "code",
        "colab": {
          "base_uri": "https://localhost:8080/",
          "height": 33
        },
        "outputId": "1f5258e0-aed9-4d7f-a52d-bfbc7720c040"
      },
      "cell_type": "code",
      "source": [
        "# STEP 3: make predictions on the testing set\n",
        "y_pred = logreg.predict(X_test)\n",
        "import sklearn.metrics as metrics\n",
        "# compare actual response values (y_test) with predicted response values (y_pred)\n",
        "print(metrics.accuracy_score(y_test, y_pred))"
      ],
      "execution_count": 52,
      "outputs": [
        {
          "output_type": "stream",
          "text": [
            "0.95\n"
          ],
          "name": "stdout"
        }
      ]
    },
    {
      "metadata": {
        "id": "zAS4raIr75DY",
        "colab_type": "text"
      },
      "cell_type": "markdown",
      "source": [
        "Repeat for KNN with K=5:"
      ]
    },
    {
      "metadata": {
        "id": "OlT-3Gac75Da",
        "colab_type": "code",
        "colab": {
          "base_uri": "https://localhost:8080/",
          "height": 33
        },
        "outputId": "a8e1ef36-16bc-4020-a551-8030f017ad42"
      },
      "cell_type": "code",
      "source": [
        "knn = KNeighborsClassifier(n_neighbors=5)\n",
        "knn.fit(X_train, y_train)\n",
        "y_pred = knn.predict(X_test)\n",
        "print(metrics.accuracy_score(y_test, y_pred))"
      ],
      "execution_count": 53,
      "outputs": [
        {
          "output_type": "stream",
          "text": [
            "0.9666666666666667\n"
          ],
          "name": "stdout"
        }
      ]
    },
    {
      "metadata": {
        "id": "5YBXZIUS75Dd",
        "colab_type": "text"
      },
      "cell_type": "markdown",
      "source": [
        "Repeat for KNN with K=1:"
      ]
    },
    {
      "metadata": {
        "id": "2WKgM5z875Dd",
        "colab_type": "code",
        "colab": {
          "base_uri": "https://localhost:8080/",
          "height": 33
        },
        "outputId": "6de1be7c-ffb9-4b20-fb5b-78cc18636d80"
      },
      "cell_type": "code",
      "source": [
        "knn = KNeighborsClassifier(n_neighbors=1)\n",
        "knn.fit(X_train, y_train)\n",
        "y_pred = knn.predict(X_test)\n",
        "print(metrics.accuracy_score(y_test, y_pred))"
      ],
      "execution_count": 54,
      "outputs": [
        {
          "output_type": "stream",
          "text": [
            "0.95\n"
          ],
          "name": "stdout"
        }
      ]
    },
    {
      "metadata": {
        "id": "8pFd6hlt75Dg",
        "colab_type": "text"
      },
      "cell_type": "markdown",
      "source": [
        "Can we locate an even better value for K?"
      ]
    },
    {
      "metadata": {
        "id": "-Ul2ievj75Di",
        "colab_type": "code",
        "colab": {}
      },
      "cell_type": "code",
      "source": [
        "# try K=1 through K=25 and record testing accuracy\n",
        "k_range = list(range(1, 26))\n",
        "scores = []\n",
        "\n",
        "for k in k_range:\n",
        "    knn = KNeighborsClassifier(n_neighbors=k)\n",
        "    knn.fit(X_train, y_train)\n",
        "    y_pred = knn.predict(X_test)\n",
        "    scores.append(metrics.accuracy_score(y_test, y_pred))"
      ],
      "execution_count": 0,
      "outputs": []
    },
    {
      "metadata": {
        "id": "BNssYZb775Dj",
        "colab_type": "code",
        "colab": {
          "base_uri": "https://localhost:8080/",
          "height": 298
        },
        "outputId": "57a441ef-cc16-4ba2-f5af-24e4b9bd16f1"
      },
      "cell_type": "code",
      "source": [
        "# import Matplotlib (scientific plotting library)\n",
        "import matplotlib.pyplot as plt\n",
        "\n",
        "# allow plots to appear within the notebook\n",
        "%matplotlib inline\n",
        "\n",
        "# plot the relationship between K and testing accuracy\n",
        "plt.plot(k_range, scores)\n",
        "plt.xlabel('Value of K for KNN')\n",
        "plt.ylabel('Testing Accuracy')"
      ],
      "execution_count": 56,
      "outputs": [
        {
          "output_type": "execute_result",
          "data": {
            "text/plain": [
              "Text(0,0.5,'Testing Accuracy')"
            ]
          },
          "metadata": {
            "tags": []
          },
          "execution_count": 56
        },
        {
          "output_type": "display_data",
          "data": {
            "image/png": "[encoded data removed]",
            "text/plain": [
              "<matplotlib.figure.Figure at 0x7f1e62ea0160>"
            ]
          },
          "metadata": {
            "tags": []
          }
        }
      ]
    },
    {
      "metadata": {
        "id": "jTjOCzzU75Dm",
        "colab_type": "text"
      },
      "cell_type": "markdown",
      "source": [
        "- **Training accuracy** rises as model complexity increases\n",
        "- **Testing accuracy** penalizes models that are too complex or not complex enough\n",
        "- For KNN models, complexity is determined by the **value of K** (lower value = more complex)"
      ]
    },
    {
      "metadata": {
        "id": "gmenl5hP75Dn",
        "colab_type": "text"
      },
      "cell_type": "markdown",
      "source": [
        "## Making predictions on out-of-sample data"
      ]
    },
    {
      "metadata": {
        "id": "AaKwjSTM75Dn",
        "colab_type": "code",
        "colab": {
          "base_uri": "https://localhost:8080/",
          "height": 33
        },
        "outputId": "1e614fd4-a213-4c17-d856-f95edec65c1b"
      },
      "cell_type": "code",
      "source": [
        "# instantiate the model with the best known parameters\n",
        "knn = KNeighborsClassifier(n_neighbors=11)\n",
        "\n",
        "# train the model with X and y (not X_train and y_train)\n",
        "knn.fit(X, y)\n",
        "\n",
        "# make a prediction for an out-of-sample observation\n",
        "knn.predict([[3, 5, 4, 2]])"
      ],
      "execution_count": 57,
      "outputs": [
        {
          "output_type": "execute_result",
          "data": {
            "text/plain": [
              "array([1])"
            ]
          },
          "metadata": {
            "tags": []
          },
          "execution_count": 57
        }
      ]
    },
    {
      "metadata": {
        "id": "wkpqwQve8CIt",
        "colab_type": "text"
      },
      "cell_type": "markdown",
      "source": [
        "# Cross-validation for parameter tuning, model selection, and feature selection "
      ]
    },
    {
      "metadata": {
        "id": "lpgBV-Wn8CIv",
        "colab_type": "text"
      },
      "cell_type": "markdown",
      "source": [
        "## Agenda\n",
        "\n",
        "- What is the drawback of using the **train/test split** procedure for model evaluation?\n",
        "- How does **K-fold cross-validation** overcome this limitation?\n",
        "- How can cross-validation be used for selecting **tuning parameters**, choosing between **models**, and selecting **features**?\n",
        "- What are some possible **improvements** to cross-validation?"
      ]
    },
    {
      "metadata": {
        "id": "_zzNDz8F8CIv",
        "colab_type": "text"
      },
      "cell_type": "markdown",
      "source": [
        "## Review of model evaluation procedures"
      ]
    },
    {
      "metadata": {
        "id": "BNeRR60r8CIw",
        "colab_type": "text"
      },
      "cell_type": "markdown",
      "source": [
        "**Motivation:** Need a way to choose between machine learning models\n",
        "\n",
        "- Goal is to estimate likely performance of a model on **out-of-sample data**\n",
        "\n",
        "**Initial idea:** Train and test on the same data\n",
        "\n",
        "- But, maximizing **training accuracy** rewards overly complex models which **overfit** the training data\n",
        "\n",
        "**Alternative idea:** Train/test split\n",
        "\n",
        "- Split the dataset into two pieces, so that the model can be trained and tested on **different data**\n",
        "- **Testing accuracy** is a better estimate than training accuracy of out-of-sample performance\n",
        "- But, it provides a **high variance** estimate since changing which observations happen to be in the testing set can significantly change testing accuracy"
      ]
    },
    {
      "metadata": {
        "id": "L8zIJirZ8CIx",
        "colab_type": "code",
        "colab": {}
      },
      "cell_type": "code",
      "source": [
        "from sklearn.datasets import load_iris\n",
        "from sklearn.model_selection import train_test_split\n",
        "from sklearn.neighbors import KNeighborsClassifier\n",
        "from sklearn import metrics"
      ],
      "execution_count": 0,
      "outputs": []
    },
    {
      "metadata": {
        "id": "TorewT2C8CI0",
        "colab_type": "code",
        "colab": {}
      },
      "cell_type": "code",
      "source": [
        "# read in the iris data\n",
        "iris = load_iris()\n",
        "\n",
        "# create X (features) and y (response)\n",
        "X = iris.data\n",
        "y = iris.target"
      ],
      "execution_count": 0,
      "outputs": []
    },
    {
      "metadata": {
        "id": "tCOd5SJ58CI3",
        "colab_type": "code",
        "colab": {
          "base_uri": "https://localhost:8080/",
          "height": 33
        },
        "outputId": "ff0289e5-ad84-4b9b-8eb4-8287889ef637"
      },
      "cell_type": "code",
      "source": [
        "# use train/test split with different random_state values\n",
        "X_train, X_test, y_train, y_test = train_test_split(X, y, random_state=4)\n",
        "\n",
        "# check classification accuracy of KNN with K=5\n",
        "knn = KNeighborsClassifier(n_neighbors=5)\n",
        "knn.fit(X_train, y_train)\n",
        "y_pred = knn.predict(X_test)\n",
        "print(metrics.accuracy_score(y_test, y_pred))"
      ],
      "execution_count": 59,
      "outputs": [
        {
          "output_type": "stream",
          "text": [
            "0.9736842105263158\n"
          ],
          "name": "stdout"
        }
      ]
    },
    {
      "metadata": {
        "id": "lNdc7Cn98CI9",
        "colab_type": "text"
      },
      "cell_type": "markdown",
      "source": [
        "**Question**: What if we created a bunch of train/test splits, calculated the testing accuracy for each, and averaged the results together?\n",
        "\n",
        "**Answer:** That's the essense of cross-validation!"
      ]
    },
    {
      "metadata": {
        "id": "Qotk8_FX8CI9",
        "colab_type": "text"
      },
      "cell_type": "markdown",
      "source": [
        "## Steps for K-fold cross-validation"
      ]
    },
    {
      "metadata": {
        "id": "ycoBpIEw8CI-",
        "colab_type": "text"
      },
      "cell_type": "markdown",
      "source": [
        "1. Split the dataset into K **equal** partitions (or \"folds\").\n",
        "2. Use fold 1 as the **testing set** and the union of the other folds as the **training set**.\n",
        "3. Calculate **testing accuracy**.\n",
        "4. Repeat steps 2 and 3 K times, using a **different fold** as the testing set each time.\n",
        "5. Use the **average testing accuracy** as the estimate of out-of-sample accuracy."
      ]
    },
    {
      "metadata": {
        "id": "3srfwu958CI_",
        "colab_type": "text"
      },
      "cell_type": "markdown",
      "source": [
        "Diagram of **5-fold cross-validation:**\n",
        "\n",
        "![5-fold cross-validation](https://github.com/justmarkham/scikit-learn-videos/blob/master/images/07_cross_validation_diagram.png?raw=1)"
      ]
    },
    {
      "metadata": {
        "id": "HkvhhbHJ8CI_",
        "colab_type": "code",
        "colab": {},
        "outputId": "5a6a60dd-a8a3-4aa2-c4e3-8b6fa0680bf1"
      },
      "cell_type": "code",
      "source": [
        "# simulate splitting a dataset of 25 observations into 5 folds\n",
        "# Documentation for KFold in Scikit-Learn: http://scikit-learn.org/stable/modules/generated/sklearn.model_selection.KFold.html\n",
        "from sklearn.model_selection import KFold\n",
        "kf = KFold(n_splits=5, shuffle=False).split(range(25))\n",
        "\n",
        "# print the contents of each training and testing set\n",
        "print('{} {:^61} {}'.format('Iteration', 'Training set observations', 'Testing set observations'))\n",
        "for iteration, data in enumerate(kf, start=1):\n",
        "    print('{:^9} {} {:^25}'.format(iteration, data[0], str(data[1])))"
      ],
      "execution_count": 0,
      "outputs": [
        {
          "output_type": "stream",
          "text": [
            "Iteration                   Training set observations                   Testing set observations\n",
            "    1     [ 5  6  7  8  9 10 11 12 13 14 15 16 17 18 19 20 21 22 23 24]        [0 1 2 3 4]       \n",
            "    2     [ 0  1  2  3  4 10 11 12 13 14 15 16 17 18 19 20 21 22 23 24]        [5 6 7 8 9]       \n",
            "    3     [ 0  1  2  3  4  5  6  7  8  9 15 16 17 18 19 20 21 22 23 24]     [10 11 12 13 14]     \n",
            "    4     [ 0  1  2  3  4  5  6  7  8  9 10 11 12 13 14 20 21 22 23 24]     [15 16 17 18 19]     \n",
            "    5     [ 0  1  2  3  4  5  6  7  8  9 10 11 12 13 14 15 16 17 18 19]     [20 21 22 23 24]     \n"
          ],
          "name": "stdout"
        }
      ]
    },
    {
      "metadata": {
        "id": "3EYeJXwR8CJD",
        "colab_type": "text"
      },
      "cell_type": "markdown",
      "source": [
        "- Dataset contains **25 observations** (numbered 0 through 24)\n",
        "- 5-fold cross-validation, thus it runs for **5 iterations**\n",
        "- For each iteration, every observation is either in the training set or the testing set, **but not both**\n",
        "- Every observation is in the testing set **exactly once**"
      ]
    },
    {
      "metadata": {
        "id": "DqBNQx2W8CJE",
        "colab_type": "text"
      },
      "cell_type": "markdown",
      "source": [
        "## Comparing cross-validation to train/test split"
      ]
    },
    {
      "metadata": {
        "id": "6K9CMsYB8CJE",
        "colab_type": "text"
      },
      "cell_type": "markdown",
      "source": [
        "Advantages of **cross-validation:**\n",
        "\n",
        "- More accurate estimate of out-of-sample accuracy\n",
        "- More \"efficient\" use of data (every observation is used for both training and testing)\n",
        "\n",
        "Advantages of **train/test split:**\n",
        "\n",
        "- Runs K times faster than K-fold cross-validation\n",
        "- Simpler to examine the detailed results of the testing process"
      ]
    },
    {
      "metadata": {
        "id": "1wbqZekD8CJF",
        "colab_type": "text"
      },
      "cell_type": "markdown",
      "source": [
        "## Cross-validation recommendations"
      ]
    },
    {
      "metadata": {
        "id": "bhBNA-eR8CJG",
        "colab_type": "text"
      },
      "cell_type": "markdown",
      "source": [
        "1. K can be any number, but **K=10** is generally recommended\n",
        "2. For classification problems, **stratified sampling** is recommended for creating the folds\n",
        "    - Each response class should be represented with equal proportions in each of the K folds\n",
        "    - scikit-learn's `cross_val_score` function does this by default"
      ]
    },
    {
      "metadata": {
        "id": "7ezdxsTg8CJH",
        "colab_type": "text"
      },
      "cell_type": "markdown",
      "source": [
        "## Cross-validation example: parameter tuning"
      ]
    },
    {
      "metadata": {
        "id": "UzT1ztTL8CJI",
        "colab_type": "text"
      },
      "cell_type": "markdown",
      "source": [
        "**Goal:** Select the best tuning parameters (aka \"hyperparameters\") for KNN on the iris dataset"
      ]
    },
    {
      "metadata": {
        "id": "r7YSIWfp8CJK",
        "colab_type": "code",
        "colab": {}
      },
      "cell_type": "code",
      "source": [
        "from sklearn.model_selection import cross_val_score"
      ],
      "execution_count": 0,
      "outputs": []
    },
    {
      "metadata": {
        "id": "zT2rUvHC8CJM",
        "colab_type": "code",
        "colab": {
          "base_uri": "https://localhost:8080/",
          "height": 66
        },
        "outputId": "da154c03-7444-4fb1-8c3a-0144ea5acddd"
      },
      "cell_type": "code",
      "source": [
        "# 10-fold cross-validation with K=5 for KNN (the n_neighbors parameter)\n",
        "knn = KNeighborsClassifier(n_neighbors=5)\n",
        "# Documentation: http://scikit-learn.org/stable/modules/generated/sklearn.model_selection.cross_val_score.html\n",
        "scores = cross_val_score(knn, X, y, cv=10, scoring='accuracy')\n",
        "print(scores)\n",
        "print(len(scores))"
      ],
      "execution_count": 64,
      "outputs": [
        {
          "output_type": "stream",
          "text": [
            "[1.         0.93333333 1.         1.         0.86666667 0.93333333\n",
            " 0.93333333 1.         1.         1.        ]\n",
            "10\n"
          ],
          "name": "stdout"
        }
      ]
    },
    {
      "metadata": {
        "id": "jY-H3YYG8CJQ",
        "colab_type": "code",
        "colab": {
          "base_uri": "https://localhost:8080/",
          "height": 33
        },
        "outputId": "308fb641-e78b-490c-d19f-d6266dac8bfe"
      },
      "cell_type": "code",
      "source": [
        "# use average accuracy as an estimate of out-of-sample accuracy\n",
        "print(scores.mean())"
      ],
      "execution_count": 62,
      "outputs": [
        {
          "output_type": "stream",
          "text": [
            "0.9666666666666668\n"
          ],
          "name": "stdout"
        }
      ]
    },
    {
      "metadata": {
        "id": "TjzP-aHr8CJT",
        "colab_type": "code",
        "colab": {
          "base_uri": "https://localhost:8080/",
          "height": 53
        },
        "outputId": "92822d96-82d6-40b1-a7a1-5f96aebde6ac"
      },
      "cell_type": "code",
      "source": [
        "# search for an optimal value of K for KNN\n",
        "k_range = list(range(1, 31))\n",
        "k_scores = []\n",
        "for k in k_range:\n",
        "    knn = KNeighborsClassifier(n_neighbors=k)\n",
        "    scores = cross_val_score(knn, X, y, cv=10, scoring='accuracy')\n",
        "    k_scores.append(round(scores.mean(), 4))\n",
        "print(k_scores)"
      ],
      "execution_count": 65,
      "outputs": [
        {
          "output_type": "stream",
          "text": [
            "[0.96, 0.9533, 0.9667, 0.9667, 0.9667, 0.9667, 0.9667, 0.9667, 0.9733, 0.9667, 0.9667, 0.9733, 0.98, 0.9733, 0.9733, 0.9733, 0.9733, 0.98, 0.9733, 0.98, 0.9667, 0.9667, 0.9733, 0.96, 0.9667, 0.96, 0.9667, 0.9533, 0.9533, 0.9533]\n"
          ],
          "name": "stdout"
        }
      ]
    },
    {
      "metadata": {
        "id": "liOtzLu08CJW",
        "colab_type": "code",
        "colab": {},
        "outputId": "85bd50be-ef06-4039-be58-13960e6aeb92"
      },
      "cell_type": "code",
      "source": [
        "import matplotlib.pyplot as plt\n",
        "%matplotlib inline\n",
        "\n",
        "# plot the value of K for KNN (x-axis) versus the cross-validated accuracy (y-axis)\n",
        "plt.plot(k_range, k_scores)\n",
        "plt.xlabel('Value of K for KNN')\n",
        "plt.ylabel('Cross-Validated Accuracy')"
      ],
      "execution_count": 0,
      "outputs": [
        {
          "output_type": "execute_result",
          "data": {
            "text/plain": [
              "Text(0,0.5,'Cross-Validated Accuracy')"
            ]
          },
          "metadata": {
            "tags": []
          },
          "execution_count": 10
        },
        {
          "output_type": "display_data",
          "data": {
            "image/png": "[encoded data removed]",
            "text/plain": [
              "<Figure size 432x288 with 1 Axes>"
            ]
          },
          "metadata": {
            "tags": []
          }
        }
      ]
    },
    {
      "metadata": {
        "id": "3bBaJ_Ei8CJg",
        "colab_type": "text"
      },
      "cell_type": "markdown",
      "source": [
        "## Cross-validation example: model selection"
      ]
    },
    {
      "metadata": {
        "id": "uZZ9vRjq8CJg",
        "colab_type": "text"
      },
      "cell_type": "markdown",
      "source": [
        "**Goal:** Compare the best KNN model with logistic regression on the iris dataset"
      ]
    },
    {
      "metadata": {
        "id": "e--WuBlA8CJh",
        "colab_type": "code",
        "colab": {},
        "outputId": "f47ae2c3-c5fc-45a6-e0bd-b16ac8df587c"
      },
      "cell_type": "code",
      "source": [
        "# 10-fold cross-validation with the best KNN model\n",
        "knn = KNeighborsClassifier(n_neighbors=20)\n",
        "print(cross_val_score(knn, X, y, cv=10, scoring='accuracy').mean())"
      ],
      "execution_count": 0,
      "outputs": [
        {
          "output_type": "stream",
          "text": [
            "0.9800000000000001\n"
          ],
          "name": "stdout"
        }
      ]
    },
    {
      "metadata": {
        "id": "zPQDro5-8CJk",
        "colab_type": "code",
        "colab": {},
        "outputId": "440fbd4f-8dc7-4ede-be54-a32e81502ad5"
      },
      "cell_type": "code",
      "source": [
        "# 10-fold cross-validation with logistic regression\n",
        "from sklearn.linear_model import LogisticRegression\n",
        "logreg = LogisticRegression()\n",
        "print(cross_val_score(logreg, X, y, cv=10, scoring='accuracy').mean())"
      ],
      "execution_count": 0,
      "outputs": [
        {
          "output_type": "stream",
          "text": [
            "0.9533333333333334\n"
          ],
          "name": "stdout"
        }
      ]
    },
    {
      "metadata": {
        "id": "9KtkvKt_8CJo",
        "colab_type": "text"
      },
      "cell_type": "markdown",
      "source": [
        "## Cross-validation example: feature selection"
      ]
    },
    {
      "metadata": {
        "id": "KmNkLBxW8CJp",
        "colab_type": "text"
      },
      "cell_type": "markdown",
      "source": [
        "**Goal**: Select whether the Newspaper feature should be included in the linear regression model on the advertising dataset"
      ]
    },
    {
      "metadata": {
        "id": "wHMICeu08CJr",
        "colab_type": "code",
        "colab": {}
      },
      "cell_type": "code",
      "source": [
        "import pandas as pd\n",
        "import numpy as np\n",
        "from sklearn.linear_model import LinearRegression"
      ],
      "execution_count": 0,
      "outputs": []
    },
    {
      "metadata": {
        "id": "snrDtQrR8CJt",
        "colab_type": "code",
        "colab": {}
      },
      "cell_type": "code",
      "source": [
        "# read in the advertising dataset\n",
        "# data = pd.read_csv('data/Advertising.csv', index_col=0)\n",
        "\n",
        "import pandas as pd\n",
        "import io\n",
        "import requests\n",
        "url=\"https://raw.githubusercontent.com/justmarkham/scikit-learn-videos/master/data/Advertising.csv\"\n",
        "s=requests.get(url).content\n",
        "data=pd.read_csv(io.StringIO(s.decode('utf-8')))\n"
      ],
      "execution_count": 0,
      "outputs": []
    },
    {
      "metadata": {
        "id": "muJa3LW_8CJw",
        "colab_type": "code",
        "colab": {}
      },
      "cell_type": "code",
      "source": [
        "# create a Python list of three feature names\n",
        "feature_cols = ['TV', 'Radio', 'Newspaper']\n",
        "\n",
        "# use the list to select a subset of the DataFrame (X)\n",
        "X = data[feature_cols]\n",
        "\n",
        "# select the Sales column as the response (y)\n",
        "y = data.Sales"
      ],
      "execution_count": 0,
      "outputs": []
    },
    {
      "metadata": {
        "id": "LVxFUb0u8CJx",
        "colab_type": "code",
        "colab": {
          "base_uri": "https://localhost:8080/",
          "height": 50
        },
        "outputId": "f9e7ce7a-d98e-4784-c0f2-c320fb768797"
      },
      "cell_type": "code",
      "source": [
        "# 10-fold cross-validation with all three features\n",
        "lm = LinearRegression()\n",
        "scores = cross_val_score(lm, X, y, cv=10, scoring='neg_mean_squared_error')\n",
        "print(scores)"
      ],
      "execution_count": 77,
      "outputs": [
        {
          "output_type": "stream",
          "text": [
            "[-3.56038438 -3.29767522 -2.08943356 -2.82474283 -1.3027754  -1.74163618\n",
            " -8.17338214 -2.11409746 -3.04273109 -2.45281793]\n"
          ],
          "name": "stdout"
        }
      ]
    },
    {
      "metadata": {
        "id": "EP3X7LH18CJ0",
        "colab_type": "code",
        "colab": {
          "base_uri": "https://localhost:8080/",
          "height": 50
        },
        "outputId": "d47d6ed0-0934-4918-b34e-211fb5038eda"
      },
      "cell_type": "code",
      "source": [
        "# fix the sign of MSE scores\n",
        "mse_scores = -scores\n",
        "print(mse_scores)"
      ],
      "execution_count": 78,
      "outputs": [
        {
          "output_type": "stream",
          "text": [
            "[3.56038438 3.29767522 2.08943356 2.82474283 1.3027754  1.74163618\n",
            " 8.17338214 2.11409746 3.04273109 2.45281793]\n"
          ],
          "name": "stdout"
        }
      ]
    },
    {
      "metadata": {
        "id": "ePnOn22A8CJ6",
        "colab_type": "code",
        "colab": {
          "base_uri": "https://localhost:8080/",
          "height": 50
        },
        "outputId": "7e11a796-4434-439c-ef3e-a94050660017"
      },
      "cell_type": "code",
      "source": [
        "# convert from MSE to RMSE\n",
        "rmse_scores = np.sqrt(mse_scores)\n",
        "print(rmse_scores)"
      ],
      "execution_count": 79,
      "outputs": [
        {
          "output_type": "stream",
          "text": [
            "[1.88689808 1.81595022 1.44548731 1.68069713 1.14139187 1.31971064\n",
            " 2.85891276 1.45399362 1.7443426  1.56614748]\n"
          ],
          "name": "stdout"
        }
      ]
    },
    {
      "metadata": {
        "id": "5FDT74yu8CJ-",
        "colab_type": "code",
        "colab": {
          "base_uri": "https://localhost:8080/",
          "height": 33
        },
        "outputId": "21d8185b-6eb3-4cc8-c9eb-b683f9c6ebfa"
      },
      "cell_type": "code",
      "source": [
        "# calculate the average RMSE\n",
        "print(rmse_scores.mean())"
      ],
      "execution_count": 80,
      "outputs": [
        {
          "output_type": "stream",
          "text": [
            "1.6913531708051792\n"
          ],
          "name": "stdout"
        }
      ]
    },
    {
      "metadata": {
        "id": "qOhqhGmM8CKA",
        "colab_type": "code",
        "colab": {
          "base_uri": "https://localhost:8080/",
          "height": 33
        },
        "outputId": "81aa93eb-0574-481e-a859-e52c4b068b3e"
      },
      "cell_type": "code",
      "source": [
        "# 10-fold cross-validation with two features (excluding Newspaper)\n",
        "feature_cols = ['TV', 'Radio']\n",
        "X = data[feature_cols]\n",
        "print(np.sqrt(-cross_val_score(lm, X, y, cv=10, scoring='neg_mean_squared_error')).mean())"
      ],
      "execution_count": 81,
      "outputs": [
        {
          "output_type": "stream",
          "text": [
            "1.6796748419090766\n"
          ],
          "name": "stdout"
        }
      ]
    },
    {
      "metadata": {
        "id": "DtGV2KL28CKE",
        "colab_type": "text"
      },
      "cell_type": "markdown",
      "source": [
        "## Improvements to cross-validation"
      ]
    },
    {
      "metadata": {
        "id": "XgzlugDG8CKF",
        "colab_type": "text"
      },
      "cell_type": "markdown",
      "source": [
        "**Repeated cross-validation**\n",
        "\n",
        "- Repeat cross-validation multiple times (with **different random splits** of the data) and average the results\n",
        "- More reliable estimate of out-of-sample performance by **reducing the variance** associated with a single trial of cross-validation\n",
        "\n",
        "**Creating a hold-out set**\n",
        "\n",
        "- \"Hold out\" a portion of the data **before** beginning the model building process\n",
        "- Locate the best model using cross-validation on the remaining data, and test it **using the hold-out set**\n",
        "- More reliable estimate of out-of-sample performance since hold-out set is **truly out-of-sample**\n"
      ]
    },
    {
      "metadata": {
        "id": "jtR-uefwE0mP",
        "colab_type": "code",
        "colab": {}
      },
      "cell_type": "code",
      "source": [
        ""
      ],
      "execution_count": 0,
      "outputs": []
    },
    {
      "metadata": {
        "id": "cfLT88Ch8Gpz",
        "colab_type": "text"
      },
      "cell_type": "markdown",
      "source": [
        "# Evaluating a classification model"
      ]
    },
    {
      "metadata": {
        "id": "9Yu7h2648Gpz",
        "colab_type": "text"
      },
      "cell_type": "markdown",
      "source": [
        "## Agenda\n",
        "\n",
        "- What is the purpose of **model evaluation**, and what are some common evaluation procedures?\n",
        "- What is the usage of **classification accuracy**, and what are its limitations?\n",
        "- How does a **confusion matrix** describe the performance of a classifier?\n",
        "- What **metrics** can be computed from a confusion matrix?\n",
        "- How can you adjust classifier performance by **changing the classification threshold**?\n",
        "- What is the purpose of an **ROC curve**?\n",
        "- How does **Area Under the Curve (AUC)** differ from classification accuracy?"
      ]
    },
    {
      "metadata": {
        "id": "Jg_MipZb8Gp0",
        "colab_type": "text"
      },
      "cell_type": "markdown",
      "source": [
        "## Review of model evaluation\n",
        "\n",
        "- Need a way to choose between models: different model types, tuning parameters, and features\n",
        "- Use a **model evaluation procedure** to estimate how well a model will generalize to out-of-sample data\n",
        "- Requires a **model evaluation metric** to quantify the model performance"
      ]
    },
    {
      "metadata": {
        "id": "jn0XzirO8Gp1",
        "colab_type": "text"
      },
      "cell_type": "markdown",
      "source": [
        "### Model evaluation procedures\n",
        "\n",
        "1. **Training and testing on the same data**\n",
        "    - Rewards overly complex models that \"overfit\" the training data and won't necessarily generalize\n",
        "2. **Train/test split**\n",
        "    - Split the dataset into two pieces, so that the model can be trained and tested on different data\n",
        "    - Better estimate of out-of-sample performance, but still a \"high variance\" estimate\n",
        "    - Useful due to its speed, simplicity, and flexibility\n",
        "3. **K-fold cross-validation**\n",
        "    - Systematically create \"K\" train/test splits and average the results together\n",
        "    - Even better estimate of out-of-sample performance\n",
        "    - Runs \"K\" times slower than train/test split"
      ]
    },
    {
      "metadata": {
        "id": "f90p7TSA8Gp1",
        "colab_type": "text"
      },
      "cell_type": "markdown",
      "source": [
        "### Model evaluation metrics\n",
        "\n",
        "- **Regression problems:** Mean Absolute Error, Mean Squared Error, Root Mean Squared Error\n",
        "- **Classification problems:** Classification accuracy"
      ]
    },
    {
      "metadata": {
        "id": "8d77WQKx8Gp2",
        "colab_type": "text"
      },
      "cell_type": "markdown",
      "source": [
        "## Classification accuracy\n",
        "\n",
        "[Pima Indians Diabetes dataset](https://www.kaggle.com/uciml/pima-indians-diabetes-database) originally from the UCI Machine Learning Repository"
      ]
    },
    {
      "metadata": {
        "id": "IN27lDeF8Gp3",
        "colab_type": "code",
        "colab": {}
      },
      "cell_type": "code",
      "source": [
        "# read the data into a pandas DataFrame\n",
        "import pandas as pd\n",
        "\n",
        "import pandas as pd\n",
        "import io\n",
        "import requests\n",
        "\n",
        "url=\"https://raw.githubusercontent.com/justmarkham/scikit-learn-videos/master/data/pima-indians-diabetes.data\"\n",
        "s=requests.get(url).content\n",
        "col_names = ['pregnant', 'glucose', 'bp', 'skin', 'insulin', 'bmi', 'pedigree', 'age', 'label']\n",
        "pima=pd.read_csv(io.StringIO(s.decode('utf-8')), header=None, names=col_names)\n",
        "\n",
        "\n",
        "from sklearn.datasets import load_breast_cancer\n",
        "bcdata = load_breast_cancer()\n",
        "\n",
        "# pima = pd.read_csv(data, header=None, names=col_names)"
      ],
      "execution_count": 0,
      "outputs": []
    },
    {
      "metadata": {
        "id": "KBhNEypM8GqD",
        "colab_type": "code",
        "colab": {
          "base_uri": "https://localhost:8080/",
          "height": 150
        },
        "outputId": "5ff228c2-275e-42e4-e534-9c78eb969a8f"
      },
      "cell_type": "code",
      "source": [
        "# print the first 5 rows of data\n",
        "pima.head()\n",
        "\n"
      ],
      "execution_count": 111,
      "outputs": [
        {
          "output_type": "stream",
          "text": [
            "[[1.799e+01 1.038e+01 1.228e+02 ... 2.654e-01 4.601e-01 1.189e-01]\n",
            " [2.057e+01 1.777e+01 1.329e+02 ... 1.860e-01 2.750e-01 8.902e-02]\n",
            " [1.969e+01 2.125e+01 1.300e+02 ... 2.430e-01 3.613e-01 8.758e-02]\n",
            " ...\n",
            " [1.660e+01 2.808e+01 1.083e+02 ... 1.418e-01 2.218e-01 7.820e-02]\n",
            " [2.060e+01 2.933e+01 1.401e+02 ... 2.650e-01 4.087e-01 1.240e-01]\n",
            " [7.760e+00 2.454e+01 4.792e+01 ... 0.000e+00 2.871e-01 7.039e-02]]\n",
            "<class 'numpy.ndarray'>\n"
          ],
          "name": "stdout"
        }
      ]
    },
    {
      "metadata": {
        "id": "ifNY5cHY8GqI",
        "colab_type": "text"
      },
      "cell_type": "markdown",
      "source": [
        "**Question:** Can we predict the diabetes status of a patient given their health measurements?"
      ]
    },
    {
      "metadata": {
        "id": "aXN7s_AZ8GqK",
        "colab_type": "code",
        "colab": {
          "base_uri": "https://localhost:8080/",
          "height": 50
        },
        "outputId": "3e113f19-4330-4183-c4c2-e88d7f6794ad"
      },
      "cell_type": "code",
      "source": [
        "# define X and y\n",
        "feature_cols = ['pregnant', 'insulin', 'bmi', 'age']\n",
        "X = pima[feature_cols]\n",
        "y = pima.label\n",
        "\n",
        "print(type(X))\n",
        "print(type(y))\n",
        "# X = bcdata.data\n",
        "# y = bcdata.target"
      ],
      "execution_count": 118,
      "outputs": [
        {
          "output_type": "stream",
          "text": [
            "<class 'pandas.core.frame.DataFrame'>\n",
            "<class 'pandas.core.series.Series'>\n"
          ],
          "name": "stdout"
        }
      ]
    },
    {
      "metadata": {
        "id": "oZpqtgif8GqQ",
        "colab_type": "code",
        "colab": {}
      },
      "cell_type": "code",
      "source": [
        "# split X and y into training and testing sets\n",
        "from sklearn.model_selection import train_test_split\n",
        "X_train, X_test, y_train, y_test = train_test_split(X, y, random_state=0)"
      ],
      "execution_count": 0,
      "outputs": []
    },
    {
      "metadata": {
        "id": "jpwoepW68GqV",
        "colab_type": "code",
        "colab": {
          "base_uri": "https://localhost:8080/",
          "height": 83
        },
        "outputId": "91489df9-2667-4194-b47f-284f78f68ead"
      },
      "cell_type": "code",
      "source": [
        "# train a logistic regression model on the training set\n",
        "from sklearn.linear_model import LogisticRegression\n",
        "logreg = LogisticRegression()\n",
        "logreg.fit(X_train, y_train)"
      ],
      "execution_count": 122,
      "outputs": [
        {
          "output_type": "execute_result",
          "data": {
            "text/plain": [
              "LogisticRegression(C=1.0, class_weight=None, dual=False, fit_intercept=True,\n",
              "          intercept_scaling=1, max_iter=100, multi_class='ovr', n_jobs=1,\n",
              "          penalty='l2', random_state=None, solver='liblinear', tol=0.0001,\n",
              "          verbose=0, warm_start=False)"
            ]
          },
          "metadata": {
            "tags": []
          },
          "execution_count": 122
        }
      ]
    },
    {
      "metadata": {
        "id": "Q50U1pRI8GqX",
        "colab_type": "code",
        "colab": {}
      },
      "cell_type": "code",
      "source": [
        "# make class predictions for the testing set\n",
        "y_pred_class = logreg.predict(X_test)"
      ],
      "execution_count": 0,
      "outputs": []
    },
    {
      "metadata": {
        "id": "Gbw1wJAH8Gqc",
        "colab_type": "text"
      },
      "cell_type": "markdown",
      "source": [
        "**Classification accuracy:** percentage of correct predictions"
      ]
    },
    {
      "metadata": {
        "id": "8-CbcIJl8Gqe",
        "colab_type": "code",
        "colab": {
          "base_uri": "https://localhost:8080/",
          "height": 33
        },
        "outputId": "dd2a1505-dd79-4342-d3ec-b60f6459f7bf"
      },
      "cell_type": "code",
      "source": [
        "# calculate accuracy\n",
        "from sklearn import metrics\n",
        "print(metrics.accuracy_score(y_test, y_pred_class))"
      ],
      "execution_count": 124,
      "outputs": [
        {
          "output_type": "stream",
          "text": [
            "0.6927083333333334\n"
          ],
          "name": "stdout"
        }
      ]
    },
    {
      "metadata": {
        "id": "oMQACgzK8Gqn",
        "colab_type": "text"
      },
      "cell_type": "markdown",
      "source": [
        "**Null accuracy:** accuracy that could be achieved by always predicting the most frequent class"
      ]
    },
    {
      "metadata": {
        "id": "_iub-jL-8Gqo",
        "colab_type": "code",
        "colab": {
          "base_uri": "https://localhost:8080/",
          "height": 66
        },
        "outputId": "dfddbcf0-5d26-4487-fd6f-74b93e2e6e1d"
      },
      "cell_type": "code",
      "source": [
        "# examine the class distribution of the testing set (using a Pandas Series method)\n",
        "y_test.value_counts()"
      ],
      "execution_count": 125,
      "outputs": [
        {
          "output_type": "execute_result",
          "data": {
            "text/plain": [
              "0    130\n",
              "1     62\n",
              "Name: label, dtype: int64"
            ]
          },
          "metadata": {
            "tags": []
          },
          "execution_count": 125
        }
      ]
    },
    {
      "metadata": {
        "id": "Kvss7WIB8Gqy",
        "colab_type": "code",
        "colab": {
          "base_uri": "https://localhost:8080/",
          "height": 33
        },
        "outputId": "01431b05-3f8e-4761-dc90-2c845769d816"
      },
      "cell_type": "code",
      "source": [
        "# calculate the percentage of ones\n",
        "y_test.mean()"
      ],
      "execution_count": 126,
      "outputs": [
        {
          "output_type": "execute_result",
          "data": {
            "text/plain": [
              "0.3229166666666667"
            ]
          },
          "metadata": {
            "tags": []
          },
          "execution_count": 126
        }
      ]
    },
    {
      "metadata": {
        "id": "kdjrO9IA8Gq2",
        "colab_type": "code",
        "colab": {
          "base_uri": "https://localhost:8080/",
          "height": 33
        },
        "outputId": "ed2d08b6-80d2-4fc3-87e6-f81abfb29be9"
      },
      "cell_type": "code",
      "source": [
        "# calculate the percentage of zeros\n",
        "1 - y_test.mean()"
      ],
      "execution_count": 127,
      "outputs": [
        {
          "output_type": "execute_result",
          "data": {
            "text/plain": [
              "0.6770833333333333"
            ]
          },
          "metadata": {
            "tags": []
          },
          "execution_count": 127
        }
      ]
    },
    {
      "metadata": {
        "id": "ZVsaSbMu8Gq5",
        "colab_type": "code",
        "colab": {
          "base_uri": "https://localhost:8080/",
          "height": 33
        },
        "outputId": "e99d6d2f-7249-4a46-d7af-8d67ac6d813a"
      },
      "cell_type": "code",
      "source": [
        "# calculate null accuracy (for binary classification problems coded as 0/1)\n",
        "max(y_test.mean(), 1 - y_test.mean())"
      ],
      "execution_count": 128,
      "outputs": [
        {
          "output_type": "execute_result",
          "data": {
            "text/plain": [
              "0.6770833333333333"
            ]
          },
          "metadata": {
            "tags": []
          },
          "execution_count": 128
        }
      ]
    },
    {
      "metadata": {
        "id": "P72CeJ4p8Gq_",
        "colab_type": "code",
        "colab": {
          "base_uri": "https://localhost:8080/",
          "height": 50
        },
        "outputId": "70ee13ea-9770-42cd-89a6-a4970a7e56b3"
      },
      "cell_type": "code",
      "source": [
        "# calculate null accuracy (for multi-class classification problems)\n",
        "y_test.value_counts().head(1) / len(y_test)"
      ],
      "execution_count": 129,
      "outputs": [
        {
          "output_type": "execute_result",
          "data": {
            "text/plain": [
              "0    0.677083\n",
              "Name: label, dtype: float64"
            ]
          },
          "metadata": {
            "tags": []
          },
          "execution_count": 129
        }
      ]
    },
    {
      "metadata": {
        "id": "qmNxyr-s8GrH",
        "colab_type": "text"
      },
      "cell_type": "markdown",
      "source": [
        "Comparing the **true** and **predicted** response values"
      ]
    },
    {
      "metadata": {
        "id": "O77NnSGL8GrH",
        "colab_type": "code",
        "colab": {
          "base_uri": "https://localhost:8080/",
          "height": 50
        },
        "outputId": "a59a1601-3ddd-490e-b4e0-1d0c10075bfb"
      },
      "cell_type": "code",
      "source": [
        "# print the first 25 true and predicted responses\n",
        "print('True:', y_test.values[0:25])\n",
        "print('Pred:', y_pred_class[0:25])"
      ],
      "execution_count": 130,
      "outputs": [
        {
          "output_type": "stream",
          "text": [
            "True: [1 0 0 1 0 0 1 1 0 0 1 1 0 0 0 0 1 0 0 0 1 1 0 0 0]\n",
            "Pred: [0 0 0 0 0 0 0 1 0 1 0 1 0 0 0 0 0 0 0 0 0 0 0 0 0]\n"
          ],
          "name": "stdout"
        }
      ]
    },
    {
      "metadata": {
        "id": "lveEn8dy8GrO",
        "colab_type": "text"
      },
      "cell_type": "markdown",
      "source": [
        "**Conclusion:**\n",
        "\n",
        "- Classification accuracy is the **easiest classification metric to understand**\n",
        "- But, it does not tell you the **underlying distribution** of response values\n",
        "- And, it does not tell you what **\"types\" of errors** your classifier is making"
      ]
    },
    {
      "metadata": {
        "id": "swW0Uys68GrT",
        "colab_type": "text"
      },
      "cell_type": "markdown",
      "source": [
        "## Confusion matrix\n",
        "\n",
        "Table that describes the performance of a classification model"
      ]
    },
    {
      "metadata": {
        "id": "qw8Yj3-e8GrV",
        "colab_type": "code",
        "colab": {
          "base_uri": "https://localhost:8080/",
          "height": 50
        },
        "outputId": "344771ff-b3fe-49bd-c534-e8fe9faeda12"
      },
      "cell_type": "code",
      "source": [
        "# IMPORTANT: first argument is true values, second argument is predicted values\n",
        "print(metrics.confusion_matrix(y_test, y_pred_class))"
      ],
      "execution_count": 131,
      "outputs": [
        {
          "output_type": "stream",
          "text": [
            "[[118  12]\n",
            " [ 47  15]]\n"
          ],
          "name": "stdout"
        }
      ]
    },
    {
      "metadata": {
        "id": "SqPUiKPi8Gra",
        "colab_type": "text"
      },
      "cell_type": "markdown",
      "source": [
        "![Small confusion matrix](https://github.com/justmarkham/scikit-learn-videos/blob/master/images/09_confusion_matrix_1.png?raw=1)"
      ]
    },
    {
      "metadata": {
        "id": "7jck8xtz8Grc",
        "colab_type": "text"
      },
      "cell_type": "markdown",
      "source": [
        "- Every observation in the testing set is represented in **exactly one box**\n",
        "- It's a 2x2 matrix because there are **2 response classes**\n",
        "- The format shown here is **not** universal"
      ]
    },
    {
      "metadata": {
        "id": "Rjp4QQYZ8Gre",
        "colab_type": "text"
      },
      "cell_type": "markdown",
      "source": [
        "**Basic terminology**\n",
        "\n",
        "- **True Positives (TP):** we *correctly* predicted that they *do* have diabetes\n",
        "- **True Negatives (TN):** we *correctly* predicted that they *don't* have diabetes\n",
        "- **False Positives (FP):** we *incorrectly* predicted that they *do* have diabetes (a \"Type I error\")\n",
        "- **False Negatives (FN):** we *incorrectly* predicted that they *don't* have diabetes (a \"Type II error\")"
      ]
    },
    {
      "metadata": {
        "id": "zJavZhLH8Gri",
        "colab_type": "code",
        "colab": {
          "base_uri": "https://localhost:8080/",
          "height": 50
        },
        "outputId": "3b4c0e56-a53a-4961-8634-7b18869c29da"
      },
      "cell_type": "code",
      "source": [
        "# print the first 25 true and predicted responses\n",
        "print('True:', y_test.values[0:25])\n",
        "print('Pred:', y_pred_class[0:25])"
      ],
      "execution_count": 132,
      "outputs": [
        {
          "output_type": "stream",
          "text": [
            "True: [1 0 0 1 0 0 1 1 0 0 1 1 0 0 0 0 1 0 0 0 1 1 0 0 0]\n",
            "Pred: [0 0 0 0 0 0 0 1 0 1 0 1 0 0 0 0 0 0 0 0 0 0 0 0 0]\n"
          ],
          "name": "stdout"
        }
      ]
    },
    {
      "metadata": {
        "id": "vyEyMATW8Grp",
        "colab_type": "code",
        "colab": {}
      },
      "cell_type": "code",
      "source": [
        "# save confusion matrix and slice into four pieces\n",
        "confusion = metrics.confusion_matrix(y_test, y_pred_class)\n",
        "TP = confusion[1, 1]\n",
        "TN = confusion[0, 0]\n",
        "FP = confusion[0, 1]\n",
        "FN = confusion[1, 0]"
      ],
      "execution_count": 0,
      "outputs": []
    },
    {
      "metadata": {
        "id": "w5O2mcj68Grs",
        "colab_type": "text"
      },
      "cell_type": "markdown",
      "source": [
        "![Large confusion matrix](https://github.com/justmarkham/scikit-learn-videos/blob/master/images/09_confusion_matrix_2.png?raw=1)"
      ]
    },
    {
      "metadata": {
        "id": "QhOs6zJ38Grt",
        "colab_type": "text"
      },
      "cell_type": "markdown",
      "source": [
        "## Metrics computed from a confusion matrix"
      ]
    },
    {
      "metadata": {
        "id": "UZ782QIZ8Gru",
        "colab_type": "text"
      },
      "cell_type": "markdown",
      "source": [
        "**Classification Accuracy:** Overall, how often is the classifier correct?"
      ]
    },
    {
      "metadata": {
        "id": "AHtJvEL68Grv",
        "colab_type": "code",
        "colab": {
          "base_uri": "https://localhost:8080/",
          "height": 50
        },
        "outputId": "fc81a3c3-5363-47bd-9358-14ace13e78e0"
      },
      "cell_type": "code",
      "source": [
        "print((TP + TN) / float(TP + TN + FP + FN))\n",
        "print(metrics.accuracy_score(y_test, y_pred_class))"
      ],
      "execution_count": 134,
      "outputs": [
        {
          "output_type": "stream",
          "text": [
            "0.6927083333333334\n",
            "0.6927083333333334\n"
          ],
          "name": "stdout"
        }
      ]
    },
    {
      "metadata": {
        "id": "zelgCadD8Gr3",
        "colab_type": "text"
      },
      "cell_type": "markdown",
      "source": [
        "**Classification Error:** Overall, how often is the classifier incorrect?\n",
        "\n",
        "- Also known as \"Misclassification Rate\""
      ]
    },
    {
      "metadata": {
        "id": "aApJeHq08Gr4",
        "colab_type": "code",
        "colab": {
          "base_uri": "https://localhost:8080/",
          "height": 50
        },
        "outputId": "ac3cddf6-b068-41b2-ce18-027c080f3291"
      },
      "cell_type": "code",
      "source": [
        "print((FP + FN) / float(TP + TN + FP + FN))\n",
        "print(1 - metrics.accuracy_score(y_test, y_pred_class))"
      ],
      "execution_count": 135,
      "outputs": [
        {
          "output_type": "stream",
          "text": [
            "0.3072916666666667\n",
            "0.30729166666666663\n"
          ],
          "name": "stdout"
        }
      ]
    },
    {
      "metadata": {
        "id": "7lAJXMb88Gr7",
        "colab_type": "text"
      },
      "cell_type": "markdown",
      "source": [
        "**Sensitivity:** When the actual value is positive, how often is the prediction correct?\n",
        "\n",
        "- How \"sensitive\" is the classifier to detecting positive instances?\n",
        "- Also known as \"True Positive Rate\" or \"Recall\""
      ]
    },
    {
      "metadata": {
        "id": "h0cBmQ_A8Gr8",
        "colab_type": "code",
        "colab": {
          "base_uri": "https://localhost:8080/",
          "height": 50
        },
        "outputId": "ec433ea8-37a1-4dff-94c0-9a45bd182c19"
      },
      "cell_type": "code",
      "source": [
        "print(TP / float(TP + FN))\n",
        "print(metrics.recall_score(y_test, y_pred_class))"
      ],
      "execution_count": 136,
      "outputs": [
        {
          "output_type": "stream",
          "text": [
            "0.24193548387096775\n",
            "0.24193548387096775\n"
          ],
          "name": "stdout"
        }
      ]
    },
    {
      "metadata": {
        "id": "70iudfzC8GsG",
        "colab_type": "text"
      },
      "cell_type": "markdown",
      "source": [
        "**Specificity:** When the actual value is negative, how often is the prediction correct?\n",
        "\n",
        "- How \"specific\" (or \"selective\") is the classifier in predicting positive instances?"
      ]
    },
    {
      "metadata": {
        "id": "tS_jMAsQ8GsH",
        "colab_type": "code",
        "colab": {
          "base_uri": "https://localhost:8080/",
          "height": 33
        },
        "outputId": "0356e763-c12d-40d9-9dd4-fc1c6085fd15"
      },
      "cell_type": "code",
      "source": [
        "print(TN / float(TN + FP))"
      ],
      "execution_count": 137,
      "outputs": [
        {
          "output_type": "stream",
          "text": [
            "0.9076923076923077\n"
          ],
          "name": "stdout"
        }
      ]
    },
    {
      "metadata": {
        "id": "rTlkaeG48GsK",
        "colab_type": "text"
      },
      "cell_type": "markdown",
      "source": [
        "**False Positive Rate:** When the actual value is negative, how often is the prediction incorrect?"
      ]
    },
    {
      "metadata": {
        "id": "6J8YM2Fu8GsM",
        "colab_type": "code",
        "colab": {
          "base_uri": "https://localhost:8080/",
          "height": 33
        },
        "outputId": "1134ab23-d40c-4692-ba34-8ba1c7548175"
      },
      "cell_type": "code",
      "source": [
        "print(FP / float(TN + FP))"
      ],
      "execution_count": 138,
      "outputs": [
        {
          "output_type": "stream",
          "text": [
            "0.09230769230769231\n"
          ],
          "name": "stdout"
        }
      ]
    },
    {
      "metadata": {
        "id": "4g6KFGz58GsQ",
        "colab_type": "text"
      },
      "cell_type": "markdown",
      "source": [
        "**Precision:** When a positive value is predicted, how often is the prediction correct?\n",
        "\n",
        "- How \"precise\" is the classifier when predicting positive instances?"
      ]
    },
    {
      "metadata": {
        "id": "Ph0oa1-Y8GsR",
        "colab_type": "code",
        "colab": {
          "base_uri": "https://localhost:8080/",
          "height": 50
        },
        "outputId": "e51531eb-f0f5-467c-bb00-e5bfed7f22cb"
      },
      "cell_type": "code",
      "source": [
        "print(TP / float(TP + FP))\n",
        "print(metrics.precision_score(y_test, y_pred_class))"
      ],
      "execution_count": 139,
      "outputs": [
        {
          "output_type": "stream",
          "text": [
            "0.5555555555555556\n",
            "0.5555555555555556\n"
          ],
          "name": "stdout"
        }
      ]
    },
    {
      "metadata": {
        "id": "vjXHDLgf8GsZ",
        "colab_type": "text"
      },
      "cell_type": "markdown",
      "source": [
        "Many other metrics can be computed: F1 score, Matthews correlation coefficient, etc."
      ]
    },
    {
      "metadata": {
        "id": "WxFWmVPV8Gsa",
        "colab_type": "text"
      },
      "cell_type": "markdown",
      "source": [
        "**Conclusion:**\n",
        "\n",
        "- Confusion matrix gives you a **more complete picture** of how your classifier is performing\n",
        "- Also allows you to compute various **classification metrics**, and these metrics can guide your model selection\n",
        "\n",
        "**Which metrics should you focus on?**\n",
        "\n",
        "- Choice of metric depends on your **business objective**\n",
        "- **Spam filter** (positive class is \"spam\"): Optimize for **precision or specificity** because false negatives (spam goes to the inbox) are more acceptable than false positives (non-spam is caught by the spam filter)\n",
        "- **Fraudulent transaction detector** (positive class is \"fraud\"): Optimize for **sensitivity** because false positives (normal transactions that are flagged as possible fraud) are more acceptable than false negatives (fraudulent transactions that are not detected)"
      ]
    },
    {
      "metadata": {
        "id": "bzZ5vw5I8Gsa",
        "colab_type": "text"
      },
      "cell_type": "markdown",
      "source": [
        "## Adjusting the classification threshold"
      ]
    },
    {
      "metadata": {
        "id": "vis5ebIn8Gsa",
        "colab_type": "code",
        "colab": {
          "base_uri": "https://localhost:8080/",
          "height": 33
        },
        "outputId": "efc36983-d976-406c-95d7-89fb9351108b"
      },
      "cell_type": "code",
      "source": [
        "# print the first 10 predicted responses\n",
        "logreg.predict(X_test)[0:10]"
      ],
      "execution_count": 140,
      "outputs": [
        {
          "output_type": "execute_result",
          "data": {
            "text/plain": [
              "array([0, 0, 0, 0, 0, 0, 0, 1, 0, 1])"
            ]
          },
          "metadata": {
            "tags": []
          },
          "execution_count": 140
        }
      ]
    },
    {
      "metadata": {
        "id": "H3wsadUy8Gsg",
        "colab_type": "code",
        "colab": {
          "base_uri": "https://localhost:8080/",
          "height": 183
        },
        "outputId": "3fcbf67d-b75a-46a0-f937-bec4091b4120"
      },
      "cell_type": "code",
      "source": [
        "# print the first 10 predicted probabilities of class membership\n",
        "logreg.predict_proba(X_test)[0:10, :]"
      ],
      "execution_count": 141,
      "outputs": [
        {
          "output_type": "execute_result",
          "data": {
            "text/plain": [
              "array([[0.63247571, 0.36752429],\n",
              "       [0.71643656, 0.28356344],\n",
              "       [0.71104114, 0.28895886],\n",
              "       [0.5858938 , 0.4141062 ],\n",
              "       [0.84103973, 0.15896027],\n",
              "       [0.82934844, 0.17065156],\n",
              "       [0.50110974, 0.49889026],\n",
              "       [0.48658459, 0.51341541],\n",
              "       [0.72321388, 0.27678612],\n",
              "       [0.32810562, 0.67189438]])"
            ]
          },
          "metadata": {
            "tags": []
          },
          "execution_count": 141
        }
      ]
    },
    {
      "metadata": {
        "id": "4n9Uuq8q8Gsr",
        "colab_type": "code",
        "colab": {
          "base_uri": "https://localhost:8080/",
          "height": 50
        },
        "outputId": "031fcba1-db17-4d84-c784-1f692e472620"
      },
      "cell_type": "code",
      "source": [
        "# print the first 10 predicted probabilities for class 1\n",
        "logreg.predict_proba(X_test)[0:10, 1]"
      ],
      "execution_count": 142,
      "outputs": [
        {
          "output_type": "execute_result",
          "data": {
            "text/plain": [
              "array([0.36752429, 0.28356344, 0.28895886, 0.4141062 , 0.15896027,\n",
              "       0.17065156, 0.49889026, 0.51341541, 0.27678612, 0.67189438])"
            ]
          },
          "metadata": {
            "tags": []
          },
          "execution_count": 142
        }
      ]
    },
    {
      "metadata": {
        "id": "BWzF0s7j8Gsu",
        "colab_type": "code",
        "colab": {}
      },
      "cell_type": "code",
      "source": [
        "# store the predicted probabilities for class 1\n",
        "y_pred_prob = logreg.predict_proba(X_test)[:, 1]"
      ],
      "execution_count": 0,
      "outputs": []
    },
    {
      "metadata": {
        "id": "TthhBrDg8Gsx",
        "colab_type": "code",
        "colab": {}
      },
      "cell_type": "code",
      "source": [
        "# allow plots to appear in the notebook\n",
        "%matplotlib inline\n",
        "import matplotlib.pyplot as plt"
      ],
      "execution_count": 0,
      "outputs": []
    },
    {
      "metadata": {
        "id": "oFt-k2xt8Gs3",
        "colab_type": "code",
        "colab": {
          "base_uri": "https://localhost:8080/",
          "height": 310
        },
        "outputId": "bb4afae7-7d17-4a08-a58c-e8c39f4bfeb3"
      },
      "cell_type": "code",
      "source": [
        "# histogram of predicted probabilities\n",
        "plt.hist(y_pred_prob, bins=8)\n",
        "plt.xlim(0, 1)\n",
        "plt.title('Histogram of predicted probabilities')\n",
        "plt.xlabel('Predicted probability of diabetes')\n",
        "plt.ylabel('Frequency')"
      ],
      "execution_count": 145,
      "outputs": [
        {
          "output_type": "execute_result",
          "data": {
            "text/plain": [
              "Text(0,0.5,'Frequency')"
            ]
          },
          "metadata": {
            "tags": []
          },
          "execution_count": 145
        },
        {
          "output_type": "display_data",
          "data": {
            "image/png": "[encoded data removed]",
            "text/plain": [
              "<matplotlib.figure.Figure at 0x7f1e4d4d95f8>"
            ]
          },
          "metadata": {
            "tags": []
          }
        }
      ]
    },
    {
      "metadata": {
        "id": "jnlz5JDZ8Gs8",
        "colab_type": "text"
      },
      "cell_type": "markdown",
      "source": [
        "**Decrease the threshold** for predicting diabetes in order to **increase the sensitivity** of the classifier"
      ]
    },
    {
      "metadata": {
        "id": "9TpMNAG_8Gs8",
        "colab_type": "code",
        "colab": {}
      },
      "cell_type": "code",
      "source": [
        "# predict diabetes if the predicted probability is greater than 0.3\n",
        "from sklearn.preprocessing import binarize\n",
        "y_pred_class = binarize([y_pred_prob], 0.3)[0]"
      ],
      "execution_count": 0,
      "outputs": []
    },
    {
      "metadata": {
        "id": "sD5WH2gR8Gs-",
        "colab_type": "code",
        "colab": {
          "base_uri": "https://localhost:8080/",
          "height": 50
        },
        "outputId": "36ccf48d-242a-4d83-fcb8-93bb5b804857"
      },
      "cell_type": "code",
      "source": [
        "# print the first 10 predicted probabilities\n",
        "y_pred_prob[0:10]"
      ],
      "execution_count": 147,
      "outputs": [
        {
          "output_type": "execute_result",
          "data": {
            "text/plain": [
              "array([0.36752429, 0.28356344, 0.28895886, 0.4141062 , 0.15896027,\n",
              "       0.17065156, 0.49889026, 0.51341541, 0.27678612, 0.67189438])"
            ]
          },
          "metadata": {
            "tags": []
          },
          "execution_count": 147
        }
      ]
    },
    {
      "metadata": {
        "id": "4e5mYUt18GtD",
        "colab_type": "code",
        "colab": {
          "base_uri": "https://localhost:8080/",
          "height": 33
        },
        "outputId": "051efe0b-f918-427c-8499-cd0418050ec8"
      },
      "cell_type": "code",
      "source": [
        "# print the first 10 predicted classes with the lower threshold\n",
        "y_pred_class[0:10]"
      ],
      "execution_count": 148,
      "outputs": [
        {
          "output_type": "execute_result",
          "data": {
            "text/plain": [
              "array([1., 0., 0., 1., 0., 0., 1., 1., 0., 1.])"
            ]
          },
          "metadata": {
            "tags": []
          },
          "execution_count": 148
        }
      ]
    },
    {
      "metadata": {
        "id": "FT31Y8Lf8GtN",
        "colab_type": "code",
        "colab": {
          "base_uri": "https://localhost:8080/",
          "height": 50
        },
        "outputId": "b549c102-0843-4d89-902c-2591bb9ae02b"
      },
      "cell_type": "code",
      "source": [
        "# previous confusion matrix (default threshold of 0.5)\n",
        "print(confusion)"
      ],
      "execution_count": 150,
      "outputs": [
        {
          "output_type": "stream",
          "text": [
            "[[118  12]\n",
            " [ 47  15]]\n"
          ],
          "name": "stdout"
        }
      ]
    },
    {
      "metadata": {
        "id": "A83vFX3t8GtT",
        "colab_type": "code",
        "colab": {
          "base_uri": "https://localhost:8080/",
          "height": 50
        },
        "outputId": "241747c3-5598-4752-a35e-575f529ef701"
      },
      "cell_type": "code",
      "source": [
        "# new confusion matrix (threshold of 0.3)\n",
        "print(metrics.confusion_matrix(y_test, y_pred_class))"
      ],
      "execution_count": 152,
      "outputs": [
        {
          "output_type": "stream",
          "text": [
            "[[80 50]\n",
            " [16 46]]\n"
          ],
          "name": "stdout"
        }
      ]
    },
    {
      "metadata": {
        "id": "PbkG6n1j8Gth",
        "colab_type": "code",
        "colab": {
          "base_uri": "https://localhost:8080/",
          "height": 33
        },
        "outputId": "5dc5bb6d-772e-4170-8984-75a7528a4498"
      },
      "cell_type": "code",
      "source": [
        "# sensitivity has increased (used to be 0.24)\n",
        "print(46 / float(46 + 16))"
      ],
      "execution_count": 151,
      "outputs": [
        {
          "output_type": "stream",
          "text": [
            "0.7419354838709677\n"
          ],
          "name": "stdout"
        }
      ]
    },
    {
      "metadata": {
        "id": "F3DV8xef8Gtx",
        "colab_type": "code",
        "colab": {
          "base_uri": "https://localhost:8080/",
          "height": 33
        },
        "outputId": "f4ed47a3-bcd0-4664-d58c-863790868bb0"
      },
      "cell_type": "code",
      "source": [
        "# specificity has decreased (used to be 0.91)\n",
        "print(80 / float(80 + 50))"
      ],
      "execution_count": 153,
      "outputs": [
        {
          "output_type": "stream",
          "text": [
            "0.6153846153846154\n"
          ],
          "name": "stdout"
        }
      ]
    },
    {
      "metadata": {
        "id": "U_2cgUBk8Gt0",
        "colab_type": "text"
      },
      "cell_type": "markdown",
      "source": [
        "**Conclusion:**\n",
        "\n",
        "- **Threshold of 0.5** is used by default (for binary problems) to convert predicted probabilities into class predictions\n",
        "- Threshold can be **adjusted** to increase sensitivity or specificity\n",
        "- Sensitivity and specificity have an **inverse relationship**"
      ]
    },
    {
      "metadata": {
        "id": "f8SueW5l8Gt0",
        "colab_type": "text"
      },
      "cell_type": "markdown",
      "source": [
        "## ROC Curves and Area Under the Curve (AUC)\n",
        "\n",
        "**Question:** Wouldn't it be nice if we could see how sensitivity and specificity are affected by various thresholds, without actually changing the threshold?\n",
        "\n",
        "**Answer:** Plot the ROC curve!"
      ]
    },
    {
      "metadata": {
        "id": "h7Xzz1-V8Gt1",
        "colab_type": "code",
        "colab": {
          "base_uri": "https://localhost:8080/",
          "height": 293
        },
        "outputId": "ef9d22a0-d606-4f76-c227-7a7a29310d25"
      },
      "cell_type": "code",
      "source": [
        "# IMPORTANT: first argument is true values, second argument is predicted probabilities\n",
        "fpr, tpr, thresholds = metrics.roc_curve(y_test, y_pred_prob)\n",
        "plt.plot(fpr, tpr)\n",
        "plt.xlim([0.0, 1.0])\n",
        "plt.ylim([0.0, 1.0])\n",
        "plt.title('ROC curve for diabetes classifier')\n",
        "plt.xlabel('False Positive Rate (1 - Specificity)')\n",
        "plt.ylabel('True Positive Rate (Sensitivity)')\n",
        "plt.grid(True)"
      ],
      "execution_count": 154,
      "outputs": [
        {
          "output_type": "display_data",
          "data": {
            "image/png": "[encoded data removed]",
            "text/plain": [
              "<matplotlib.figure.Figure at 0x7f1e4d01aa20>"
            ]
          },
          "metadata": {
            "tags": []
          }
        }
      ]
    },
    {
      "metadata": {
        "id": "xkgjzw0t8Gt9",
        "colab_type": "text"
      },
      "cell_type": "markdown",
      "source": [
        "- ROC curve can help you to **choose a threshold** that balances sensitivity and specificity in a way that makes sense for your particular context\n",
        "- You can't actually **see the thresholds** used to generate the curve on the ROC curve itself"
      ]
    },
    {
      "metadata": {
        "id": "tIBUbFUD8Gt-",
        "colab_type": "code",
        "colab": {}
      },
      "cell_type": "code",
      "source": [
        "# define a function that accepts a threshold and prints sensitivity and specificity\n",
        "def evaluate_threshold(threshold):\n",
        "    print('Sensitivity:', tpr[thresholds > threshold][-1])\n",
        "    print('Specificity:', 1 - fpr[thresholds > threshold][-1])"
      ],
      "execution_count": 0,
      "outputs": []
    },
    {
      "metadata": {
        "id": "_OuZZxCT8GuD",
        "colab_type": "code",
        "colab": {
          "base_uri": "https://localhost:8080/",
          "height": 50
        },
        "outputId": "989ba3df-054c-4fcf-9c8b-969922e831b3"
      },
      "cell_type": "code",
      "source": [
        "evaluate_threshold(0.5)"
      ],
      "execution_count": 156,
      "outputs": [
        {
          "output_type": "stream",
          "text": [
            "Sensitivity: 0.24193548387096775\n",
            "Specificity: 0.9076923076923077\n"
          ],
          "name": "stdout"
        }
      ]
    },
    {
      "metadata": {
        "id": "14bGN5CO8GuO",
        "colab_type": "code",
        "colab": {
          "base_uri": "https://localhost:8080/",
          "height": 50
        },
        "outputId": "e211d1a6-1863-45ab-f8cd-c96d1df1d7bc"
      },
      "cell_type": "code",
      "source": [
        "evaluate_threshold(0.3)"
      ],
      "execution_count": 157,
      "outputs": [
        {
          "output_type": "stream",
          "text": [
            "Sensitivity: 0.7258064516129032\n",
            "Specificity: 0.6153846153846154\n"
          ],
          "name": "stdout"
        }
      ]
    },
    {
      "metadata": {
        "id": "IeZtf2Bn8GuS",
        "colab_type": "text"
      },
      "cell_type": "markdown",
      "source": [
        "AUC is the **percentage** of the ROC plot that is **underneath the curve**:"
      ]
    },
    {
      "metadata": {
        "id": "JRGqoTmk8GuT",
        "colab_type": "code",
        "colab": {
          "base_uri": "https://localhost:8080/",
          "height": 33
        },
        "outputId": "3d00dac5-0556-4c09-d155-787f6a915b14"
      },
      "cell_type": "code",
      "source": [
        "# IMPORTANT: first argument is true values, second argument is predicted probabilities\n",
        "print(metrics.roc_auc_score(y_test, y_pred_prob))"
      ],
      "execution_count": 158,
      "outputs": [
        {
          "output_type": "stream",
          "text": [
            "0.7245657568238213\n"
          ],
          "name": "stdout"
        }
      ]
    },
    {
      "metadata": {
        "id": "onvRN_ao8Gud",
        "colab_type": "text"
      },
      "cell_type": "markdown",
      "source": [
        "- AUC is useful as a **single number summary** of classifier performance.\n",
        "- If you randomly chose one positive and one negative observation, AUC represents the likelihood that your classifier will assign a **higher predicted probability** to the positive observation.\n",
        "- AUC is useful even when there is **high class imbalance** (unlike classification accuracy)."
      ]
    },
    {
      "metadata": {
        "id": "fPKTsOAo8Guf",
        "colab_type": "code",
        "colab": {
          "base_uri": "https://localhost:8080/",
          "height": 33
        },
        "outputId": "7a852652-f6e0-487e-a33b-0a0370803b67"
      },
      "cell_type": "code",
      "source": [
        "# calculate cross-validated AUC\n",
        "from sklearn.model_selection import cross_val_score\n",
        "cross_val_score(logreg, X, y, cv=10, scoring='roc_auc').mean()"
      ],
      "execution_count": 159,
      "outputs": [
        {
          "output_type": "execute_result",
          "data": {
            "text/plain": [
              "0.7378233618233618"
            ]
          },
          "metadata": {
            "tags": []
          },
          "execution_count": 159
        }
      ]
    },
    {
      "metadata": {
        "id": "z0LvYJhyVI2c",
        "colab_type": "code",
        "colab": {}
      },
      "cell_type": "code",
      "source": [
        ""
      ],
      "execution_count": 0,
      "outputs": []
    },
    {
      "metadata": {
        "id": "4Y2yjeLJ8Gui",
        "colab_type": "text"
      },
      "cell_type": "markdown",
      "source": [
        "**Confusion matrix advantages:**\n",
        "\n",
        "- Allows you to calculate a **variety of metrics**\n",
        "- Useful for **multi-class problems** (more than two response classes)\n",
        "\n",
        "**ROC/AUC advantages:**\n",
        "\n",
        "- Does not require you to **set a classification threshold**\n",
        "- Still useful when there is **high class imbalance**"
      ]
    },
    {
      "metadata": {
        "id": "pQc6Cw_oVJje",
        "colab_type": "text"
      },
      "cell_type": "markdown",
      "source": [
        "# Homework:\n",
        "\n",
        "* Implement a classifier to classify whether to approve a credit card to a person or not. Dataset can be found at: http://archive.ics.uci.edu/ml/datasets/credit+approval\n",
        "* Divide the dataset into train / dev / test and train the algorithm on train, tune the algorithm on dev and test the algorithm on test.\n",
        "* Report your scores, plot ROC curve, calculate precision / recall from confusion matrix."
      ]
    },
    {
      "metadata": {
        "id": "45a9pqN9VL_m",
        "colab_type": "code",
        "colab": {}
      },
      "cell_type": "code",
      "source": [
        ""
      ],
      "execution_count": 0,
      "outputs": []
    }
  ]
}