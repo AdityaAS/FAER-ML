{
 "cells": [
  {
   "cell_type": "markdown",
   "metadata": {},
   "source": [
    "# Introduction to Python\n",
    "\n",
    "Python is a *modern, robust, high level* programming language. It is very easy to pick up even if you are completely new to programming.\n",
    "\n",
    "Python, similar to other languages like Matlab or R, is **interpreted** hence runs slowly compared to **compiled** languages like C++, Fortran or Java. However writing programs in Python is very quick. Python has a very large collection of libraries for everything from scientific computing to web services.\n",
    "\n",
    "These lectures are using **Jupyter notebooks** which mix *Python* code with *documentation*. The python notebooks can be run on a webserver or stand-alone on a computer.\n",
    "\n",
    "We'll be using **Python 3.6** throughout this tutorial and the notebooks are run on **Google Colaboratory**."
   ]
  },
  {
   "cell_type": "markdown",
   "metadata": {},
   "source": [
    "## 1. Basic Syntax\n",
    "\n",
    "* Python has no **mandatory statement termination character**.\n",
    "* **No spaces or tab** characters allowed at the **start of a statement**, excpet for indented blocks.\n",
    "* Indentation plays a special role in Python, **blocks are specified by indentation**.\n",
    "* The `#` character indicates that the rest of the line is a **comment**.\n",
    "* Values are **assigned** (in fact, objects are bound to names) with `=`."
   ]
  },
  {
   "cell_type": "code",
   "execution_count": null,
   "metadata": {},
   "outputs": [],
   "source": [
    "var = 1\n",
    "# var = 2.\n",
    "# The above statement is a comment.\n",
    "print(\"value of var is %d.\" % var)"
   ]
  },
  {
   "cell_type": "code",
   "execution_count": null,
   "metadata": {},
   "outputs": [],
   "source": [
    "# spaces or tabs in beginning of statement produce error\n",
    "    var = 3"
   ]
  },
  {
   "cell_type": "markdown",
   "metadata": {},
   "source": [
    "### 1.1 Variables and Types\n",
    "\n",
    "Python is **strongly typed** (i.e. types are enforced), **dynamically, implicitly** typed (i.e. you don’t have to declare variables), **case sensitive** (i.e. var and VAR are two different variables) and **object-oriented** (i.e. everything is an object). The basic types build into Python include `float` (floating point numbers), `int` (integers), `str` (unicode character strings) and `bool` (boolean). Some examples of each:"
   ]
  },
  {
   "cell_type": "code",
   "execution_count": null,
   "metadata": {
    "scrolled": false
   },
   "outputs": [],
   "source": [
    "var1 = 5\n",
    "var2 = 15.2632423\n",
    "var3 = \"Hello World!\"\n",
    "var4 = True\n",
    "\n",
    "print(\"var1 is of type %s.\\n\" % type(var1))\n",
    "print(\"var2 is of type %s.\\n\" % type(var2))\n",
    "print(\"var3 is of type %s.\\n\" % type(var3))\n",
    "print(\"var4 is of type %s.\\n\" % type(var4))"
   ]
  },
  {
   "cell_type": "markdown",
   "metadata": {},
   "source": [
    "### 1.2 Help\n",
    "Python has extensive **help** built in. You can execute `help()` for an overview or `help(x)` for *any library, object or type x* to get more information. For example:"
   ]
  },
  {
   "cell_type": "code",
   "execution_count": null,
   "metadata": {
    "scrolled": false
   },
   "outputs": [],
   "source": [
    "help(var1)"
   ]
  },
  {
   "cell_type": "markdown",
   "metadata": {},
   "source": [
    "### 1.3 Built-in Operators\n",
    "\n",
    "<table>\n",
    "<tr>\n",
    "    <th>Arithmetic</th>\n",
    "    <th>Logical</th>\n",
    "    <th>Bitwise</th>\n",
    "</tr>\n",
    "<tr>\n",
    "    <td>\n",
    "    <table>\n",
    "    <tr>\n",
    "        <th>Symbol</th>\n",
    "        <th>Task Performed</th> \n",
    "    </tr>\n",
    "    <tr>\n",
    "        <td>+</td>\n",
    "        <td>addition</td> \n",
    "    </tr>\n",
    "    <tr>\n",
    "        <td>-</td>\n",
    "        <td>subtraction</td> \n",
    "    </tr>\n",
    "    <tr>\n",
    "        <td>/</td>\n",
    "        <td>division</td> \n",
    "    </tr>\n",
    "    <tr>\n",
    "        <td>%</td>\n",
    "        <td>mod</td> \n",
    "    </tr>\n",
    "    <tr>\n",
    "        <td>&#42;</td>\n",
    "        <td>multiplication</td> \n",
    "    </tr>\n",
    "    <tr>\n",
    "        <td>&#42;&#42;</td>\n",
    "        <td>exponentiation</td> \n",
    "    </tr>\n",
    "    </table>\n",
    "    </td>\n",
    "    <td>\n",
    "    <table>\n",
    "    <tr>\n",
    "        <th>Symbol</th>\n",
    "        <th>Task Performed</th> \n",
    "    </tr>\n",
    "    <tr>\n",
    "        <td>==</td>\n",
    "        <td>equals</td> \n",
    "    </tr>\n",
    "    <tr>\n",
    "        <td>!=</td>\n",
    "        <td>not equals</td> \n",
    "    </tr>\n",
    "    <tr>\n",
    "        <td>&lt;</td>\n",
    "        <td>less than</td> \n",
    "    </tr>\n",
    "    <tr>\n",
    "        <td>&gt;</td>\n",
    "        <td>greater than</td> \n",
    "    </tr>\n",
    "    <tr>\n",
    "        <td>&lt;=</td>\n",
    "        <td>less than or equal to</td> \n",
    "    </tr>\n",
    "    <tr>\n",
    "        <td>&gt;=</td>\n",
    "        <td>greater than or equal to</td> \n",
    "    </tr>\n",
    "    </table>\n",
    "    </td>\n",
    "    <td>\n",
    "    <table>\n",
    "    <tr>\n",
    "        <th>Symbol</th>\n",
    "        <th>Task Performed</th> \n",
    "    </tr>\n",
    "    <tr>\n",
    "        <td>&amp;</td>\n",
    "        <td>AND</td> \n",
    "    </tr>\n",
    "    <tr>\n",
    "        <td>|</td>\n",
    "        <td>OR</td> \n",
    "    </tr>\n",
    "    <tr>\n",
    "        <td>^</td>\n",
    "        <td>XOR</td> \n",
    "    </tr>\n",
    "    <tr>\n",
    "        <td>~</td>\n",
    "        <td>NOT</td> \n",
    "    </tr>\n",
    "    <tr>\n",
    "        <td>&gt;&gt;</td>\n",
    "        <td>right shift</td> \n",
    "    </tr>\n",
    "    <tr>\n",
    "        <td>&lt;&lt;</td>\n",
    "        <td>left shift</td> \n",
    "    </tr>\n",
    "    </table>\n",
    "    </td>\n",
    "</tr>\n",
    "</table>"
   ]
  },
  {
   "cell_type": "code",
   "execution_count": null,
   "metadata": {},
   "outputs": [],
   "source": [
    "int1 = 5\n",
    "int2 = 3\n",
    "print(int1 + int2)\n",
    "print(int1 - int2)\n",
    "print(int1 / int2)\n",
    "print(int1 % int2)\n",
    "print(int1 * int2)\n",
    "print(int1 ** int2)\n",
    "print()\n",
    "int3 = 3\n",
    "print(int3 == 2)\n",
    "print(int3 != 2)\n",
    "print(int3 < 2)\n",
    "print(1 < int3 <= 10)\n",
    "print()\n",
    "int4 = 2 #binary: 10\n",
    "5 = 3 #binary: 11\n",
    "print(int4 & 5, bin(int4 & 5))\n",
    "print(int4 | 5, bin(int4 | 5))\n",
    "print(int4 ^ 5, bin(int4 ^ 5))"
   ]
  },
  {
   "cell_type": "markdown",
   "metadata": {},
   "source": [
    "## 2 Data Structure"
   ]
  },
  {
   "cell_type": "markdown",
   "metadata": {},
   "source": [
    "### 2.1 String\n",
    "\n",
    "Strings can use either `'` single or `\"` double quotation marks, and you can have quotation marks of one kind inside a string that uses the other kind. Multiline strings are enclosed in `'''` or `\"\"\"` triple quotes.\n",
    "\n",
    "**Strings are immutable**. While new strings can easily be created it is not possible to modify a string.\n",
    "\n",
    "There are lots of **built-in methods** for formating and manipulating strings built into Python. Some of these are illustrated here.\n",
    "\n",
    "1. String concatenation is the \"addition\" of two strings. (There is no subtraction.)\n",
    "1. Multiplying a string by an integer simply repeats it.\n",
    "1. Strings can be compared in lexicographical order with the usual comparisons.\n",
    "1. Strings can be indexed with square brackets. Indexing starts from zero in Python."
   ]
  },
  {
   "cell_type": "code",
   "execution_count": null,
   "metadata": {},
   "outputs": [],
   "source": [
    "str1='Hello'\n",
    "str2='World!'\n",
    "str3=\"\"\"Multi-line\n",
    "string,\n",
    "three lines to be exact.\"\"\"\n",
    "print(str1 + str2, '\\n')\n",
    "print(str3)\n",
    "print()\n",
    "print(\"Hello World! \"*5)\n",
    "print('abc' < 'bbc' <= 'bbc', '\\n')\n",
    "str3 = 'Python'\n",
    "print('First character of', str3, 'is', str3[0])\n",
    "print('Last character of', str3, 'is', str3[len(str3) - 1])\n",
    "print(\"First three characters\", str3[0:3])"
   ]
  },
  {
   "cell_type": "code",
   "execution_count": null,
   "metadata": {},
   "outputs": [],
   "source": [
    "str4=\"hello World\"\n",
    "print(str4)\n",
    "print(str4.capitalize())\n",
    "print(str4.upper())\n",
    "print(str4.lower())\n",
    "print()\n",
    "str5=\"   hello world with lots of trailing space.\"\n",
    "print(str5)\n",
    "print(str5.strip()) # remove leading and trailing whitespace\n",
    "print(str5.replace(\"world\",\"class\").strip())\n",
    "print(str5.strip().split())"
   ]
  },
  {
   "cell_type": "code",
   "execution_count": null,
   "metadata": {},
   "outputs": [],
   "source": [
    "str6='Python'\n",
    "\n",
    "str7='C'+str6[1:]\n",
    "print(str6,'-->',str7)\n",
    "\n",
    "str8=str6.replace('P','C')\n",
    "print(str6,'-->',str8)\n",
    "\n",
    "str6[2] = 'X'"
   ]
  },
  {
   "cell_type": "markdown",
   "metadata": {},
   "source": [
    "#### 2.1.1 Print Statement\n",
    "\n",
    "The `print()` function prints all of its arguments as strings, separated by spaces and followed by a linebreak:\n",
    "\n",
    "    - print(\"Hello World\")\n",
    "    - print(\"Hello\",'World')\n",
    "    - print(\"Hello\", <Variable Containing the String>)\n",
    "    \n",
    "To fill a string with values from variables, you use the % (modulo) operator and a tuple. It relies on the string containing a format specifier that identifies where to insert the value. The most common types of format specifiers are:\n",
    "\n",
    "- %s -> string\n",
    "- %d -> Integer\n",
    "- %f -> Float\n"
   ]
  },
  {
   "cell_type": "code",
   "execution_count": null,
   "metadata": {},
   "outputs": [],
   "source": [
    "str9 = \"World\"\n",
    "print(\"Hello %s\" % str9)\n",
    "print(\"Actual Number = %d\" %18)\n",
    "print(\"Float of the number = %f\" %18)"
   ]
  },
  {
   "cell_type": "markdown",
   "metadata": {},
   "source": [
    "### 2.2 Lists\n",
    "\n",
    "Lists are the most commonly used data structure. Think of it as a **1D array**, where each element can be accessed by calling it's index value. Lists are **dynamic** in nature i.e. you can keep on adding data to a list. Lists need not be homogeneous, i.e. the same list can contain elements of different data types, even another list.\n",
    "\n",
    "Lists are declared by `[]` or `list()`."
   ]
  },
  {
   "cell_type": "code",
   "execution_count": null,
   "metadata": {},
   "outputs": [],
   "source": [
    "list1 = []\n",
    "list2 = list()\n",
    "list3 = ['apple', 'orange']\n",
    "list4 = [1, 2, 3]\n",
    "list5 = ['apple', 2, 3, ['orange', 3]]\n",
    "print(type(list5), list5)\n",
    "print(type(list5[0]), list5[0])\n",
    "print(type(list5[-1]), list5[-1])\n",
    "print(type(list5[-1][0]), list5[-1][0])"
   ]
  },
  {
   "cell_type": "markdown",
   "metadata": {},
   "source": [
    "#### 2.2.1 Slicing\n",
    "\n",
    "Indexing is limited to accessing a single element, Slicing on the other hand is accessing a sequence of data inside the list i.e a sublist In other words \"slicing\" the list. It It is written as `[a : b]` where a,b are the index values from the parent list."
   ]
  },
  {
   "cell_type": "code",
   "execution_count": null,
   "metadata": {},
   "outputs": [],
   "source": [
    "list6 = [0,1,2,3,4,5,6,7,8,9]\n",
    "print(list6[0:4])\n",
    "print(list6[:-1])"
   ]
  },
  {
   "cell_type": "markdown",
   "metadata": {},
   "source": [
    "#### 2.2.2 Built-in Functions\n",
    "\n",
    "* To find the length of the list or the number of elements in a list, `len()` is used.\n",
    "* `append()` is used to add a single element at the end of the list.\n",
    "* Appending a list to a list would create a sublist. If a nested list is not what is desired then the `extend()` function can be used.\n",
    "* `insert(x,y)` inserts but does not replace element. If you want to replace the element with another element you simply assign the value to that particular index.\n",
    "* `count()` is used to count the number of a particular element that is present in the list.\n",
    "* `index()` is used to find the index value of a particular element. Note that if there are multiple elements of the same value then the first index value of that element is returned.\n",
    "\n",
    "There are a ton of other useful built-in functions like `max()`, `min()`, `pop()`, `sort()`, type `help(list)`."
   ]
  },
  {
   "cell_type": "code",
   "execution_count": null,
   "metadata": {},
   "outputs": [],
   "source": [
    "list7 = [1, 2, 3, 4, 5, 6]\n",
    "print(list7)\n",
    "list7.append(7)\n",
    "print(list7)\n",
    "list7.extend([8, 9, 10])\n",
    "print(list7)\n",
    "list7.insert(5, 6)\n",
    "print(list7)\n",
    "print(\"The element 6 occurs\", list7.count(6), \"times.\")\n",
    "print(\"The length of the list is\", len(list7))"
   ]
  },
  {
   "cell_type": "markdown",
   "metadata": {},
   "source": [
    "### 2.3 Tuples\n",
    "\n",
    "Tuples are similar to lists but are immutable i.e. the elements inside a tuple cannot be changed.\n",
    "\n",
    "Tuples are declared by `()` or `tuple()` or by ending a sequence with a `,`."
   ]
  },
  {
   "cell_type": "code",
   "execution_count": null,
   "metadata": {},
   "outputs": [],
   "source": [
    "tup1 = []\n",
    "tup2 = tuple()\n",
    "tup3 = ('apple', 'orange')\n",
    "print(type(tup3), tup3)\n",
    "tup4 = (1, 2, 3,)\n",
    "print(type(tup4), tup4)"
   ]
  },
  {
   "cell_type": "markdown",
   "metadata": {},
   "source": [
    "### 2.4 Sets\n",
    "\n",
    "\n",
    "Sets are mainly used to eliminate repeated numbers in a sequence/list.\n",
    "\n",
    "Sets are declared as `set()` which will initialize a empty set. `set([sequence])` or `{sequence}` declares a set with elements.\n",
    "\n",
    "Sets have built-in functions for standard set operations like `union()`, `intersection()`, `difference()`, `symmetric_difference()`, `issubset()`, `isdisjoint()`, `issuperset()`, etc."
   ]
  },
  {
   "cell_type": "code",
   "execution_count": null,
   "metadata": {},
   "outputs": [],
   "source": [
    "set1 = set()\n",
    "set2 = set([1, 2, 3, 4])\n",
    "set3 = {3, 4, 5, 6, 7}\n",
    "print(type(set2), set2)\n",
    "print(type(set3), set3)"
   ]
  },
  {
   "cell_type": "code",
   "execution_count": null,
   "metadata": {},
   "outputs": [],
   "source": [
    "print(set2.union(set3))\n",
    "print(set2.intersection(set3))\n",
    "print(set2.difference(set3))\n",
    "print(set2.symmetric_difference(set3))\n",
    "print(set2.issubset(set3))\n",
    "print(set2.isdisjoint(set3))\n",
    "print(set2.issuperset(set3))"
   ]
  },
  {
   "cell_type": "markdown",
   "metadata": {},
   "source": [
    "### 2.5 Dictionaries\n",
    "\n",
    "Dictionaries are mappings between keys and items. **Keys** in dictionaries must be **unique**.\n",
    "\n",
    "Dictionaries are declared by `{}` or `dict()`."
   ]
  },
  {
   "cell_type": "code",
   "execution_count": null,
   "metadata": {},
   "outputs": [],
   "source": [
    "dict1 = dict()\n",
    "dict2 = {}\n",
    "dict3 = {1: 'One', 2 : 'Two', 100 : 'Hundred'}\n",
    "print(type(dict), dict)"
   ]
  },
  {
   "cell_type": "markdown",
   "metadata": {},
   "source": [
    "Assign new (key, value) pairs to a dict using `dict[key] = value`. If key already exists the value is overwritten.\n",
    "`keys()` returns the list of all keys, `values()` return the list of all values and `items()` returns the list of all (key, value) pairs."
   ]
  },
  {
   "cell_type": "code",
   "execution_count": null,
   "metadata": {},
   "outputs": [],
   "source": [
    "dict4 = {1: 'One', 'Two': 2, (1,2): 'tuple', '(1,2)': 'str'}\n",
    "print(dict4.keys())\n",
    "print(dict4.values())\n",
    "print(dict4.items())"
   ]
  },
  {
   "cell_type": "markdown",
   "metadata": {},
   "source": [
    "## 3. Control Flow Statements\n",
    "\n",
    "The key thing to note about Python's control flow statements and program structure is that it uses **indentation** to mark blocks. Hence the amount of white space (space or tab characters) at the start of a line is very important."
   ]
  },
  {
   "cell_type": "markdown",
   "metadata": {},
   "source": [
    "### 3.1 If Else If\n",
    "\n",
    "```python\n",
    "if some_condition:  \n",
    "    algorithm\n",
    "elif some_condition:\n",
    "    algorithm\n",
    "else:\n",
    "    algorithm```\n",
    "    \n",
    "if statements can be nested."
   ]
  },
  {
   "cell_type": "code",
   "execution_count": null,
   "metadata": {},
   "outputs": [],
   "source": [
    "x = 10\n",
    "y = 12\n",
    "if x > y:\n",
    "    print(\"x>y\")\n",
    "elif x < y:\n",
    "    print(\"x<y\")\n",
    "else:\n",
    "    print(\"x=y\")"
   ]
  },
  {
   "cell_type": "markdown",
   "metadata": {},
   "source": [
    "### 3.2 For\n",
    "\n",
    "```python\n",
    "for variable in something:\n",
    "    algorithm```\n",
    "    \n",
    "When looping over integers the **range()** function is useful which generates a range of integers:\n",
    "* range(n) =  0, 1, ..., n - 1\n",
    "* range(m,n) = m, m + 1, ..., n - 1\n",
    "* range(m,n,s) = m, m + s, m + 2s, ..., m + ((n - m - 1) // s) * s"
   ]
  },
  {
   "cell_type": "code",
   "execution_count": null,
   "metadata": {},
   "outputs": [],
   "source": [
    "list_of_lists = [[1, 2, 3], [4, 5, 6], [7, 8, 9]]\n",
    "total = 0\n",
    "for each_list in list_of_lists:\n",
    "    for num in each_list:\n",
    "        total = total + num\n",
    "print(total)"
   ]
  },
  {
   "cell_type": "markdown",
   "metadata": {},
   "source": [
    "### 3.3 While\n",
    "\n",
    "```python\n",
    "while some_condition:  \n",
    "    algorithm```"
   ]
  },
  {
   "cell_type": "code",
   "execution_count": null,
   "metadata": {},
   "outputs": [],
   "source": [
    "i = 1\n",
    "while i < 3:\n",
    "    print(i ** 2)\n",
    "    i = i+1\n",
    "print('Bye')"
   ]
  },
  {
   "cell_type": "markdown",
   "metadata": {},
   "source": [
    "### 3.4 Break\n",
    "\n",
    "As the name says. It is used to break out of a loop when a condition becomes true when executing the loop."
   ]
  },
  {
   "cell_type": "code",
   "execution_count": null,
   "metadata": {},
   "outputs": [],
   "source": [
    "for i in range(100):\n",
    "    print(i)\n",
    "    if i>=4:\n",
    "        break"
   ]
  },
  {
   "cell_type": "markdown",
   "metadata": {},
   "source": [
    "### 3.5 Continue\n",
    "\n",
    "This continues the rest of the loop. Sometimes when a condition is satisfied there are chances of the loop getting terminated. This can be avoided using continue statement. "
   ]
  },
  {
   "cell_type": "code",
   "execution_count": null,
   "metadata": {},
   "outputs": [],
   "source": [
    "for i in range(7):\n",
    "    if i == 4:\n",
    "        print(\"Ignored\",i)\n",
    "        continue\n",
    "    print(\"Processed\",i) # this statement is not reach if i > 4"
   ]
  },
  {
   "cell_type": "markdown",
   "metadata": {},
   "source": [
    "### 3.6 Catching exceptions\n",
    "\n",
    "To break out of deeply nested exectution sometimes it is useful to raise an exception.\n",
    "A try block allows you to catch exceptions that happen anywhere during the exeuction of the try block:\n",
    "```python\n",
    "try:\n",
    "    code\n",
    "except <Exception Type> as <variable name>:\n",
    "    # deal with error of this type\n",
    "except:\n",
    "    # deal with any error```"
   ]
  },
  {
   "cell_type": "code",
   "execution_count": null,
   "metadata": {},
   "outputs": [],
   "source": [
    "for i in [2,1.5,0.0,3]:\n",
    "    try:\n",
    "        inverse = 1.0/i\n",
    "        print(inverse)\n",
    "    except: # no matter what exception\n",
    "        print(\"Cannot calculate inverse\")"
   ]
  },
  {
   "cell_type": "markdown",
   "metadata": {},
   "source": [
    "## 4 Functions\n",
    "\n",
    "In programmming functions are a mechansim to allow code to be re-used so that complex programs can be built up out of simpler parts. This is the basic syntax of a function:\n",
    "\n",
    "```python\n",
    "def funcname(arg1, arg2,..., argN-i=<default_value>, argN-i+1=<default_value>,..., argN=<default_value>):\n",
    "    statements\n",
    "    return <value>```\n",
    "    \n",
    "Return values are optional (by default every function returns **None** if no return statement is executed)"
   ]
  },
  {
   "cell_type": "code",
   "execution_count": null,
   "metadata": {},
   "outputs": [],
   "source": [
    "x = range(10)\n",
    "def func1(num_list):\n",
    "    highest = max(num_list)\n",
    "    lowest = min(num_list)\n",
    "    first = num_list[0]\n",
    "    last = num_list[-1]\n",
    "    return highest, lowest, first, last\n",
    "print(func1(x))"
   ]
  },
  {
   "cell_type": "markdown",
   "metadata": {},
   "source": [
    "### 4.1 Scope of Variables\n",
    "\n",
    "Whatever variable is declared inside a function is local variable and outside the function in global variable.\n",
    "\n",
    "A global variable can be called from anywhere using the `global` keyword. Global values should be used sparingly as they make functions harder to re-use."
   ]
  },
  {
   "cell_type": "code",
   "execution_count": null,
   "metadata": {},
   "outputs": [],
   "source": [
    "x = 1\n",
    "y = 3\n",
    "print(\"initiate x =\", x)\n",
    "print(\"initiate y =\", y)\n",
    "def func2():\n",
    "    global x\n",
    "    x = 2 # global variable \n",
    "    y = 4 # local variable\n",
    "    print(\"inside func x is\", x)\n",
    "    print(\"inside func y is\", y)\n",
    "func2()\n",
    "print(\"outside func x =\", x)\n",
    "print(\"outside func y =\", y)"
   ]
  },
  {
   "cell_type": "markdown",
   "metadata": {},
   "source": [
    "### 4.2 Chaining Functions\n",
    "\n",
    "In python functions can be chained i.e. you can call a function on the output of another function directly in a single line."
   ]
  },
  {
   "cell_type": "code",
   "execution_count": null,
   "metadata": {},
   "outputs": [],
   "source": [
    "def square(num_list):\n",
    "    for i, num in enumerate(num_list):\n",
    "        num_list[i] = (num ** 2)\n",
    "    return num_list\n",
    "\n",
    "def cumsum(num_list):\n",
    "    cum_sum = 0\n",
    "    for i, num in enumerate(num_list):\n",
    "        cum_sum += num\n",
    "        num_list[i] = cum_sum\n",
    "    return num_list\n",
    "\n",
    "def average(num_list):\n",
    "    return sum(num_list)/len(num_list)\n",
    "\n",
    "x = [1, 2, 3, 5, 8, 7, 6]\n",
    "print(average(cumsum(square(x))))"
   ]
  },
  {
   "cell_type": "markdown",
   "metadata": {},
   "source": [
    "### 4.3 List Comprehension\n",
    "\n",
    "A very powerful concept in Python (that also applies to Tuples, sets and dictionaries as we will see below), is the ability to define lists using list comprehension (looping) expression."
   ]
  },
  {
   "cell_type": "code",
   "execution_count": null,
   "metadata": {},
   "outputs": [],
   "source": [
    "x = [1, 2, 3, 5, 8, 7, 6]\n",
    "print(average(cumsum([i ** 2 for i in x])))"
   ]
  },
  {
   "cell_type": "markdown",
   "metadata": {},
   "source": [
    "### 4.4 Importing Libraries\n",
    "\n",
    "Python has an extensive collection of external libraries whoch contains many standard functions required for different applications.\n",
    "\n",
    "External libraries are used with the `import <libname>` keyword. You can also use `from <libname> import <funcname>` for individual functions. Within a library a function is referenced as `<libname>.<funcname>`. You can import a library using a custom name by `import <libname> as <customname>`."
   ]
  },
  {
   "cell_type": "code",
   "execution_count": 1,
   "metadata": {},
   "outputs": [
    {
     "ename": "ModuleNotFoundError",
     "evalue": "No module named 'numpy'",
     "output_type": "error",
     "traceback": [
      "\u001b[0;31m---------------------------------------------------------------------------\u001b[0m",
      "\u001b[0;31mModuleNotFoundError\u001b[0m                       Traceback (most recent call last)",
      "\u001b[0;32m<ipython-input-1-62e18060235f>\u001b[0m in \u001b[0;36m<module>\u001b[0;34m()\u001b[0m\n\u001b[0;32m----> 1\u001b[0;31m \u001b[0;32mimport\u001b[0m \u001b[0mnumpy\u001b[0m \u001b[0;32mas\u001b[0m \u001b[0mnp\u001b[0m\u001b[0;34m\u001b[0m\u001b[0m\n\u001b[0m\u001b[1;32m      2\u001b[0m \u001b[0;34m\u001b[0m\u001b[0m\n\u001b[1;32m      3\u001b[0m \u001b[0mx\u001b[0m \u001b[0;34m=\u001b[0m \u001b[0;34m[\u001b[0m\u001b[0;36m1\u001b[0m\u001b[0;34m,\u001b[0m \u001b[0;36m2\u001b[0m\u001b[0;34m,\u001b[0m \u001b[0;36m3\u001b[0m\u001b[0;34m,\u001b[0m \u001b[0;36m5\u001b[0m\u001b[0;34m,\u001b[0m \u001b[0;36m8\u001b[0m\u001b[0;34m,\u001b[0m \u001b[0;36m7\u001b[0m\u001b[0;34m,\u001b[0m \u001b[0;36m6\u001b[0m\u001b[0;34m]\u001b[0m\u001b[0;34m\u001b[0m\u001b[0m\n\u001b[1;32m      4\u001b[0m \u001b[0mprint\u001b[0m\u001b[0;34m(\u001b[0m\u001b[0mnp\u001b[0m\u001b[0;34m.\u001b[0m\u001b[0mmean\u001b[0m\u001b[0;34m(\u001b[0m\u001b[0mnp\u001b[0m\u001b[0;34m.\u001b[0m\u001b[0mcumsum\u001b[0m\u001b[0;34m(\u001b[0m\u001b[0;34m[\u001b[0m\u001b[0mi\u001b[0m \u001b[0;34m**\u001b[0m \u001b[0;36m2\u001b[0m \u001b[0;32mfor\u001b[0m \u001b[0mi\u001b[0m \u001b[0;32min\u001b[0m \u001b[0mx\u001b[0m\u001b[0;34m]\u001b[0m\u001b[0;34m)\u001b[0m\u001b[0;34m)\u001b[0m\u001b[0;34m)\u001b[0m\u001b[0;34m\u001b[0m\u001b[0m\n",
      "\u001b[0;31mModuleNotFoundError\u001b[0m: No module named 'numpy'"
     ]
    }
   ],
   "source": [
    "import numpy as np\n",
    "\n",
    "x = [1, 2, 3, 5, 8, 7, 6]\n",
    "print(np.mean(np.cumsum([i ** 2 for i in x])))"
   ]
  },
  {
   "cell_type": "markdown",
   "metadata": {},
   "source": [
    "## References\n",
    "\n",
    "* Learn Python in 10 minutes by Stavros Korokithakis. https://www.stavros.io/tutorials/python/\n",
    "* Python4maths repo  by Andreas Earnst. https://gitlab.erc.monash.edu.au/andrease/Python4Maths"
   ]
  }
 ],
 "metadata": {
  "kernelspec": {
   "display_name": "Python 3",
   "language": "python",
   "name": "python3"
  },
  "language_info": {
   "codemirror_mode": {
    "name": "ipython",
    "version": 3
   },
   "file_extension": ".py",
   "mimetype": "text/x-python",
   "name": "python",
   "nbconvert_exporter": "python",
   "pygments_lexer": "ipython3",
   "version": "3.6.5"
  }
 },
 "nbformat": 4,
 "nbformat_minor": 2
}
