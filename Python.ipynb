{
  "nbformat": 4,
  "nbformat_minor": 0,
  "metadata": {
    "colab": {
      "name": "Python.ipynb",
      "version": "0.3.2",
      "provenance": [],
      "include_colab_link": true
    },
    "kernelspec": {
      "display_name": "Python 3",
      "language": "python",
      "name": "python3"
    }
  },
  "cells": [
    {
      "cell_type": "markdown",
      "metadata": {
        "id": "view-in-github",
        "colab_type": "text"
      },
      "source": [
        "[View in Colaboratory](https://colab.research.google.com/github/GohioAC/FAER-ML/blob/master/Python.ipynb)"
      ]
    },
    {
      "metadata": {
        "id": "bj3oh0H8Evd0",
        "colab_type": "toc"
      },
      "cell_type": "markdown",
      "source": [
        ">[Introduction to Google Colaboratory](#scrollTo=2SarxRlaFSwN)\n",
        "\n",
        ">>[1 Code cells](#scrollTo=rgnViFNUlKTq)\n",
        "\n",
        ">>[2 Tab Completion](#scrollTo=QGFpvIAdG-lg)\n",
        "\n",
        ">[Introduction to Python](#scrollTo=QzE_37oC3VHS)\n",
        "\n",
        ">>[1 Basic Syntax](#scrollTo=t9dC9uIK3VHU)\n",
        "\n",
        ">>>[1.1 Variables and Types](#scrollTo=uZ_1JvIi3VHc)\n",
        "\n",
        ">>>[1.2 Help](#scrollTo=6cRW4U9C3VHh)\n",
        "\n",
        ">>>[1.3 Built-in Operators](#scrollTo=lsD8CAf83VHl)\n",
        "\n",
        ">>[2 Data Structure](#scrollTo=-9siY-ya3VHq)\n",
        "\n",
        ">>>[2.1 String](#scrollTo=NVBnae7w3VHr)\n",
        "\n",
        ">>>>[2.1.1 Print Statement](#scrollTo=mbzEW5623VH3)\n",
        "\n",
        ">>>[2.2 Lists](#scrollTo=QkQVFV8-3VH8)\n",
        "\n",
        ">>>>[2.2.1 Slicing](#scrollTo=DFYuDuEb3VH_)\n",
        "\n",
        ">>>>[2.2.2 Built-in Functions](#scrollTo=dpek-TlX3VIC)\n",
        "\n",
        ">>>[2.3 Tuples](#scrollTo=W9X1kokt3VIG)\n",
        "\n",
        ">>>[2.4 Sets](#scrollTo=VuQ6t5sw3VIJ)\n",
        "\n",
        ">>>[2.5 Dictionaries](#scrollTo=upmPSE6-3VIT)\n",
        "\n",
        ">>[3 Control Flow Statements](#scrollTo=GY94kZ8a3VIk)\n",
        "\n",
        ">>>[3.1 If Else If](#scrollTo=ank13S8W3VIk)\n",
        "\n",
        ">>>[3.2 For](#scrollTo=l6-YyKHx3VIn)\n",
        "\n",
        ">>>[3.3 While](#scrollTo=ucFL8PZi3VIq)\n",
        "\n",
        ">>>[3.4 Break](#scrollTo=k37Ru24N3VIt)\n",
        "\n",
        ">>>[3.5 Continue](#scrollTo=T0z3k_Ru3VIw)\n",
        "\n",
        ">>>[3.6 Catching exceptions](#scrollTo=cWOfm6Q53VI0)\n",
        "\n",
        ">>[4 Functions](#scrollTo=niCtywje3VI4)\n",
        "\n",
        ">>>[4.1 Scope of Variables](#scrollTo=yKDswess3VI_)\n",
        "\n",
        ">>>[4.2 Lambda Functions](#scrollTo=UP1byFExtolU)\n",
        "\n",
        ">>>[4.3 Chaining Functions](#scrollTo=YZj_OOOL3VJF)\n",
        "\n",
        ">>>[4.4 List Comprehension](#scrollTo=gXUJcGRt3VJJ)\n",
        "\n",
        ">>>[4.5 Importing Libraries](#scrollTo=fUutmVF_3VJN)\n",
        "\n",
        ">>[5 File I/O](#scrollTo=J2WgVglplPyH)\n",
        "\n",
        ">>[6 Classes](#scrollTo=FNpJ4IWn0wO1)\n",
        "\n",
        ">[Intro to Useful Libraries](#scrollTo=lCO6WdU92b-y)\n",
        "\n",
        ">>[1 Pandas](#scrollTo=Pen7v4xBpRpz)\n",
        "\n",
        ">>[2 Numpy](#scrollTo=XC1TozbU3HQk)\n",
        "\n",
        ">>[3 Matplotlib](#scrollTo=JnblLmWI3Kzq)\n",
        "\n",
        ">[Useful Resources](#scrollTo=OuHOFgSV73xj)\n",
        "\n",
        ">[References](#scrollTo=ja5PHojK3VJT)\n",
        "\n"
      ]
    },
    {
      "metadata": {
        "id": "2SarxRlaFSwN",
        "colab_type": "text"
      },
      "cell_type": "markdown",
      "source": [
        "# Introduction to Google Colaboratory\n",
        "\n",
        "A notebook is a list of cells. Cells contain either explanatory text or executable code and its output. Click a cell to select it.\n"
      ]
    },
    {
      "metadata": {
        "id": "rgnViFNUlKTq",
        "colab_type": "text"
      },
      "cell_type": "markdown",
      "source": [
        "## 1 Code cells\n",
        "Below is a **code cell**. Once the toolbar button indicates CONNECTED, click in the cell to select it and execute the contents in the following ways:\n",
        "\n",
        "* Click the **Play icon** in the left gutter of the cell.\n",
        "* Type **Ctrl+Enter** to run the cell in place.\n",
        "* Type **Shift+Enter** to run the cell and move focus to the next cell (adding one if none exists).\n",
        "\n",
        "There are additional options for running some or all cells in the **Runtime** menu.\n"
      ]
    },
    {
      "metadata": {
        "id": "RNuAnpK4GjjK",
        "colab_type": "code",
        "colab": {}
      },
      "cell_type": "code",
      "source": [
        "#@title\n",
        "a = 10\n",
        "a"
      ],
      "execution_count": 0,
      "outputs": []
    },
    {
      "metadata": {
        "id": "QGFpvIAdG-lg",
        "colab_type": "text"
      },
      "cell_type": "markdown",
      "source": [
        "## 2 Tab Completion\n",
        "Run the first cell to import numpy, then press TAB after np.random. In the second cell to observe tab-completion at work."
      ]
    },
    {
      "metadata": {
        "id": "pPLmEnxKHhqd",
        "colab_type": "code",
        "colab": {}
      },
      "cell_type": "code",
      "source": [
        "#@title\n",
        "import numpy as np"
      ],
      "execution_count": 0,
      "outputs": []
    },
    {
      "metadata": {
        "id": "g1kZ8HekHnqu",
        "colab_type": "code",
        "colab": {}
      },
      "cell_type": "code",
      "source": [
        "#@title\n",
        "np.random."
      ],
      "execution_count": 0,
      "outputs": []
    },
    {
      "metadata": {
        "id": "6HzMq62aH2YC",
        "colab_type": "text"
      },
      "cell_type": "markdown",
      "source": [
        "Tab completion after **(** brings up a tooltip with the docstring:"
      ]
    },
    {
      "metadata": {
        "id": "JDT1RRF5Hrq9",
        "colab_type": "code",
        "colab": {}
      },
      "cell_type": "code",
      "source": [
        "#@title\n",
        "np.random.rand("
      ],
      "execution_count": 0,
      "outputs": []
    },
    {
      "metadata": {
        "id": "Bi9nykyyH_r9",
        "colab_type": "text"
      },
      "cell_type": "markdown",
      "source": [
        "You can get a detailed help popup by adding a **?** after the object or method name and typing **Shift+Enter**."
      ]
    },
    {
      "metadata": {
        "id": "jj0z7zGbHvKw",
        "colab_type": "code",
        "colab": {}
      },
      "cell_type": "code",
      "source": [
        "#@title\n",
        "np.random?"
      ],
      "execution_count": 0,
      "outputs": []
    },
    {
      "metadata": {
        "id": "QzE_37oC3VHS",
        "colab_type": "text"
      },
      "cell_type": "markdown",
      "source": [
        "# Introduction to Python\n",
        "\n",
        "Python is a *modern, robust, high level* programming language. It is very easy to pick up even if you are completely new to programming.\n",
        "\n",
        "Python, similar to other languages like Matlab or R, is **interpreted** hence runs slowly compared to **compiled** languages like C++, Fortran or Java. However writing programs in Python is very quick. Python has a very large collection of libraries for everything from scientific computing to web services.\n",
        "\n",
        "These lectures are using **ipython notebooks** which mix *Python* code with *documentation*. The python notebooks can be run on a webserver or stand-alone on a computer.\n",
        "\n",
        "We'll be using **Python 3.6** throughout this tutorial and the notebooks are run on **Google Colaboratory**."
      ]
    },
    {
      "metadata": {
        "id": "t9dC9uIK3VHU",
        "colab_type": "text"
      },
      "cell_type": "markdown",
      "source": [
        "## 1 Basic Syntax\n",
        "\n",
        "* Python has no **mandatory statement termination character**.\n",
        "* **No spaces or tab** characters allowed at the **start of a statement**, except for indented blocks. (more on this later)\n",
        "* Indentation plays a special role in Python, **blocks are specified by indentation**.\n",
        "* The **`#`** character indicates that the rest of the line is a **comment**, **`'''`** represents multi-line comment.\n",
        "* Values are **assigned** (in fact, objects are bound to names) with **`=`**."
      ]
    },
    {
      "metadata": {
        "id": "EeThh3DF3VHV",
        "colab_type": "code",
        "colab": {}
      },
      "cell_type": "code",
      "source": [
        "var = 1\n",
        "# var = 2.\n",
        "''' The above statement is a comment,\n",
        "This is a multi-line comment.\n",
        "'''\n",
        "print(\"value of var is %d.\" % var)"
      ],
      "execution_count": 0,
      "outputs": []
    },
    {
      "metadata": {
        "id": "jEzHSxoy3VHZ",
        "colab_type": "code",
        "colab": {}
      },
      "cell_type": "code",
      "source": [
        "var = 3 # no space at beginning\n",
        "    print(var) # indented code"
      ],
      "execution_count": 0,
      "outputs": []
    },
    {
      "metadata": {
        "id": "uZ_1JvIi3VHc",
        "colab_type": "text"
      },
      "cell_type": "markdown",
      "source": [
        "### 1.1 Variables and Types\n",
        "\n",
        "Python is *strongly typed* (i.e. types are enforced), *dynamically, implicitly* typed (i.e. you don’t have to declare variables), *case sensitive* (i.e. var and VAR are two different variables) and *object-oriented* (i.e. everything is an object). The basic types build into Python include **`float`** (floating point numbers), **`int`** (integers), **`str`** (unicode character strings) and **`bool`** (boolean). The **`type()`** function returns the type of an object. Some examples of each:"
      ]
    },
    {
      "metadata": {
        "id": "KF45ps3g3VHd",
        "colab_type": "code",
        "colab": {}
      },
      "cell_type": "code",
      "source": [
        "var1 = 5\n",
        "var2 = 15.2632423\n",
        "var3 = \"Hello World!\"\n",
        "var4 = True\n",
        "\n",
        "print(\"var1 is of type %s.\" % type(var1))\n",
        "print(\"var2 is of type %s.\" % type(var2))\n",
        "print(\"var3 is of type %s.\" % type(var3))\n",
        "print(\"var4 is of type %s.\" % type(var4))"
      ],
      "execution_count": 0,
      "outputs": []
    },
    {
      "metadata": {
        "id": "6cRW4U9C3VHh",
        "colab_type": "text"
      },
      "cell_type": "markdown",
      "source": [
        "### 1.2 Help\n",
        "Python has extensive *help* built in. You can execute **`help()`** for an overview or **`help(x)`** for *any library, object or type x* to get more information."
      ]
    },
    {
      "metadata": {
        "id": "N9arReAq3VHi",
        "colab_type": "code",
        "colab": {}
      },
      "cell_type": "code",
      "source": [
        "help(var1)"
      ],
      "execution_count": 0,
      "outputs": []
    },
    {
      "metadata": {
        "id": "lsD8CAf83VHl",
        "colab_type": "text"
      },
      "cell_type": "markdown",
      "source": [
        "### 1.3 Built-in Operators\n",
        "\n",
        "<table>\n",
        "<tr>\n",
        "    <th>Arithmetic</th>\n",
        "    <th>Logical</th>\n",
        "    <th>Bitwise</th>\n",
        "</tr>\n",
        "<tr>\n",
        "    <td>\n",
        "    <table>\n",
        "    <tr>\n",
        "        <th>Symbol</th>\n",
        "        <th>Task Performed</th> \n",
        "    </tr>\n",
        "    <tr>\n",
        "        <td>+</td>\n",
        "        <td>addition</td> \n",
        "    </tr>\n",
        "    <tr>\n",
        "        <td>-</td>\n",
        "        <td>subtraction</td> \n",
        "    </tr>\n",
        "    <tr>\n",
        "        <td>/</td>\n",
        "        <td>division</td> \n",
        "    </tr>\n",
        "    <tr>\n",
        "        <td>//</td>\n",
        "        <td>floor division</td> \n",
        "    </tr>\n",
        "    <tr>\n",
        "        <td>%</td>\n",
        "        <td>mod</td> \n",
        "    </tr>\n",
        "    <tr>\n",
        "        <td>&#42;</td>\n",
        "        <td>multiplication</td> \n",
        "    </tr>\n",
        "    <tr>\n",
        "        <td>&#42;&#42;</td>\n",
        "        <td>exponentiation</td> \n",
        "    </tr>\n",
        "    </table>\n",
        "    </td>\n",
        "    <td>\n",
        "    <table>\n",
        "    <tr>\n",
        "        <th>Symbol</th>\n",
        "        <th>Task Performed</th> \n",
        "    </tr>\n",
        "    <tr>\n",
        "        <td>==</td>\n",
        "        <td>equals</td> \n",
        "    </tr>\n",
        "    <tr>\n",
        "        <td>!=</td>\n",
        "        <td>not equals</td> \n",
        "    </tr>\n",
        "    <tr>\n",
        "        <td>&lt;</td>\n",
        "        <td>less than</td> \n",
        "    </tr>\n",
        "    <tr>\n",
        "        <td>&gt;</td>\n",
        "        <td>greater than</td> \n",
        "    </tr>\n",
        "    <tr>\n",
        "        <td>&lt;=</td>\n",
        "        <td>less than or equal to</td> \n",
        "    </tr>\n",
        "    <tr>\n",
        "        <td>&gt;=</td>\n",
        "        <td>greater than or equal to</td> \n",
        "    </tr>\n",
        "    </table>\n",
        "    </td>\n",
        "    <td>\n",
        "    <table>\n",
        "    <tr>\n",
        "        <th>Symbol</th>\n",
        "        <th>Task Performed</th> \n",
        "    </tr>\n",
        "    <tr>\n",
        "        <td>&amp;</td>\n",
        "        <td>AND</td> \n",
        "    </tr>\n",
        "    <tr>\n",
        "        <td>|</td>\n",
        "        <td>OR</td> \n",
        "    </tr>\n",
        "    <tr>\n",
        "        <td>^</td>\n",
        "        <td>XOR</td> \n",
        "    </tr>\n",
        "    <tr>\n",
        "        <td>~</td>\n",
        "        <td>NOT</td> \n",
        "    </tr>\n",
        "    <tr>\n",
        "        <td>&gt;&gt;</td>\n",
        "        <td>right shift</td> \n",
        "    </tr>\n",
        "    <tr>\n",
        "        <td>&lt;&lt;</td>\n",
        "        <td>left shift</td> \n",
        "    </tr>\n",
        "    </table>\n",
        "    </td>\n",
        "</tr>\n",
        "</table>"
      ]
    },
    {
      "metadata": {
        "id": "6GjLpAL43VHn",
        "colab_type": "code",
        "colab": {}
      },
      "cell_type": "code",
      "source": [
        "int1 = 5\n",
        "int2 = 3\n",
        "print(\"%d + %d equals %d.\" % (int1, int2, int1 + int2))\n",
        "print(\"%d - %d equals %d.\" % (int1, int2, int1 - int2))\n",
        "print(\"%d / %d equals %d.\" % (int1, int2, int1 / int2))\n",
        "print(\"%d // %d equals %d.\" % (int1, int2, int1 // int2))\n",
        "print(\"%d %% %d equals %d.\" % (int1, int2, int1 % int2))\n",
        "print(\"%d * %d equals %d.\" % (int1, int2, int1 * int2))\n",
        "print(\"%d ** %d equals %d.\" % (int1, int2, int1 ** int2))"
      ],
      "execution_count": 0,
      "outputs": []
    },
    {
      "metadata": {
        "id": "Qn0qqPwV4lD3",
        "colab_type": "code",
        "colab": {}
      },
      "cell_type": "code",
      "source": [
        "int1 = 3\n",
        "print(\"%d == 2 equals %r.\" %(int1, int1 == 2))\n",
        "print(\"%d ! 2 equals %r.\" %(int1, int1 != 2))\n",
        "print(\"%d < 2 equals %r.\" %(int1, int1 < 2))\n",
        "print(\"1 < %d <= 10 equals %r.\" %(int1, 1 < int1 <= 10))"
      ],
      "execution_count": 0,
      "outputs": []
    },
    {
      "metadata": {
        "id": "6uCy8mwJ4pwa",
        "colab_type": "code",
        "colab": {}
      },
      "cell_type": "code",
      "source": [
        "int1 = 2\n",
        "int2 = 3\n",
        "print(\"%d is %s in binary.\" %(int1, bin(int1)))\n",
        "print(\"%d is %s in binary.\" %(int2, bin(int2)))\n",
        "print(\"%d & %d is %s in binary.\" % (int1, int2, bin(int1 & int2)))\n",
        "print(\"%d | %d is %s in binary.\" % (int1, int2, bin(int1 | int2)))\n",
        "print(\"%d ^ %d is %s in binary.\" % (int1, int2, bin(int1 ^ int2)))"
      ],
      "execution_count": 0,
      "outputs": []
    },
    {
      "metadata": {
        "id": "-9siY-ya3VHq",
        "colab_type": "text"
      },
      "cell_type": "markdown",
      "source": [
        "## 2 Data Structure"
      ]
    },
    {
      "metadata": {
        "id": "NVBnae7w3VHr",
        "colab_type": "text"
      },
      "cell_type": "markdown",
      "source": [
        "### 2.1 String\n",
        "\n",
        "Strings  have to be enclosed in **`'`** single or **`\"`** double quotation marks, and you can have quotation marks of one kind inside a string that uses the other kind. Multiline strings are enclosed in **`'''`** or **`\"\"\"`** triple quotes.\n",
        "\n",
        "Strings are **immutable** i.e. is not possible to modify a string. All string modification operations create a new string and return it.\n",
        "\n",
        "There are lots of **built-in methods** for formating and manipulating strings built into Python. Some of these are illustrated here.\n",
        "\n",
        "1. String concatenation is the \"addition\" of two strings. (There is no subtraction.)\n",
        "1. Multiplying a string by an integer simply repeats it.\n",
        "1. Strings can be compared in lexicographical order with the usual comparisons.\n",
        "1. Strings can be indexed with square brackets. Indexing starts from zero in Python and -1 represents the last index."
      ]
    },
    {
      "metadata": {
        "id": "HzYYInCm3VHs",
        "colab_type": "code",
        "colab": {}
      },
      "cell_type": "code",
      "source": [
        "str1 = 'Hello'\n",
        "str2 = 'World!'\n",
        "str3 = \"Hello World!\"\n",
        "str4 = '''Multi-line\n",
        "string,\n",
        "three lines to be exact.'''\n",
        "print(\"'%s' + '%s' equals '%s'.\" % (str1, str2, str1 + str2))\n",
        "print(\"'%s' * 5 equals '%s'.\" %(str3, str3*5))"
      ],
      "execution_count": 0,
      "outputs": []
    },
    {
      "metadata": {
        "id": "3zuxOGkn4_h2",
        "colab_type": "code",
        "colab": {}
      },
      "cell_type": "code",
      "source": [
        "print(\"'%s' < '%s' equals %r.\" % (str1, str2, str1 < str2))\n",
        "str5 = 'Python'\n",
        "print(\"First character of '%s' is '%s'.\" % (str5, str5[0]))\n",
        "print(\"Last character of '%s' is '%s'.\" % (str5, str5[-1]))\n",
        "print(\"First three characters of '%s' is '%s'.\" % (str5, str5[0:3]))"
      ],
      "execution_count": 0,
      "outputs": []
    },
    {
      "metadata": {
        "id": "h-2SWNVJ3VHv",
        "colab_type": "code",
        "colab": {}
      },
      "cell_type": "code",
      "source": [
        "str1=\"hello World\"\n",
        "print(\"'%s' capitalized is '%s'.\" % (str1, str1.capitalize()))\n",
        "print(\"'%s' in upper case is '%s'.\" % (str1, str1.upper()))\n",
        "print(\"'%s' in lower case is '%s'.\" % (str1, str1.lower()))"
      ],
      "execution_count": 0,
      "outputs": []
    },
    {
      "metadata": {
        "id": "LvY7b5Xv5e1j",
        "colab_type": "code",
        "colab": {}
      },
      "cell_type": "code",
      "source": [
        "str1=\"   hello world with trailing space\"\n",
        "print(\"'%s' stripped of space is \\n'%s'.\\n\" % (str1, str1.strip())) # strip can also remove characters other than space.\n",
        "str2 = str1.strip()\n",
        "print(\"Replacing 'with' with 'without' in '%s' gives \\n'%s'.\\n\" % (str2, str2.replace(\"with\", \"without\")))\n",
        "print(\"'%s' splitted by space is \\n'%s'.\\n\" % (str2, str2.split())) # split can divide based on characters other than space."
      ],
      "execution_count": 0,
      "outputs": []
    },
    {
      "metadata": {
        "id": "0YoGoCon3VHz",
        "colab_type": "code",
        "colab": {}
      },
      "cell_type": "code",
      "source": [
        "str1='Python'\n",
        "\n",
        "str2='C'+str1[1:]\n",
        "print(str1,'-->',str2)\n",
        "\n",
        "str3=str1.replace('P','C')\n",
        "print(str1,'-->',str3)\n",
        "\n",
        "str1[0] = 'C'"
      ],
      "execution_count": 0,
      "outputs": []
    },
    {
      "metadata": {
        "id": "mbzEW5623VH3",
        "colab_type": "text"
      },
      "cell_type": "markdown",
      "source": [
        "#### 2.1.1 Print Statement\n",
        "\n",
        "The **`print()`** function prints all of its arguments as strings, separated by spaces and followed by a linebreak:\n",
        "\n",
        "    - print(\"Hello World\")\n",
        "    - print(\"Hello\",'World')\n",
        "    - print(\"Hello\", <Variable Containing the String>)\n",
        "    \n",
        "To fill a string with values from variables, you use the % (modulo) operator and a tuple. Some common string formatters are:\n",
        "- %s -> string\n",
        "- %d -> Integer\n",
        "- %f -> Float\n"
      ]
    },
    {
      "metadata": {
        "id": "vnlLmTlB3VH5",
        "colab_type": "code",
        "colab": {}
      },
      "cell_type": "code",
      "source": [
        "str1 = \"World\"\n",
        "print(\"Hello %s\" % str1)\n",
        "print(\"Hello\", str1)\n",
        "print(\"Actual Number = %d\" %18)\n",
        "print(\"Float of the number = %f\" %18)"
      ],
      "execution_count": 0,
      "outputs": []
    },
    {
      "metadata": {
        "id": "QkQVFV8-3VH8",
        "colab_type": "text"
      },
      "cell_type": "markdown",
      "source": [
        "### 2.2 Lists\n",
        "\n",
        "Lists are the most commonly used data structure. Think of it as a **1D array**, where each element can be accessed by calling it's index value. Lists are **dynamic** in nature i.e. you can keep on adding data to a list. Lists need not be homogeneous, i.e. the same list can contain elements of different data types, even another list.\n",
        "\n",
        "Lists are declared by **`[]`** or **`list()`**."
      ]
    },
    {
      "metadata": {
        "id": "I0-6OsAK3VH8",
        "colab_type": "code",
        "colab": {}
      },
      "cell_type": "code",
      "source": [
        "list1 = []\n",
        "list2 = list()\n",
        "list3 = ['apple', 'orange']\n",
        "list4 = [1, 2, 3]\n",
        "list5 = ['apple', 2, 3, ['orange', 3, 5]]\n",
        "print(\"list5 contains %s and is of type %s.\" % (list5, type(list5)))\n",
        "print(\"First element of list5 is %s of type %s.\" % (list5[0], type(list5[0])))\n",
        "print(\"Last element of list5 is %s of type %s.\" % (list5[-1], type(list5[-1])))\n",
        "print(\"First element of the above nested list is %s.\" % list5[-1][0])"
      ],
      "execution_count": 0,
      "outputs": []
    },
    {
      "metadata": {
        "id": "DFYuDuEb3VH_",
        "colab_type": "text"
      },
      "cell_type": "markdown",
      "source": [
        "#### 2.2.1 Slicing\n",
        "\n",
        "Indexing is limited to accessing a single element, slicing on the other hand is accessing a (sub)sequence of data inside the list. It is written as **`[a:b:c]`** where a,b are the index values from the parent list and c is the step size."
      ]
    },
    {
      "metadata": {
        "id": "Yo6U1MOU3VIA",
        "colab_type": "code",
        "colab": {}
      },
      "cell_type": "code",
      "source": [
        "list6 = [1,2,3,4,5,6,7,8,9,10]\n",
        "print(\"The first to fourth elements of list6 are %s.\" % list6[0:4])\n",
        "print(\"all but last element of list6 are %s.\" % list6[:-1])\n",
        "print(\"every even index element of list6 are %s.\" % list6[::2])"
      ],
      "execution_count": 0,
      "outputs": []
    },
    {
      "metadata": {
        "id": "dpek-TlX3VIC",
        "colab_type": "text"
      },
      "cell_type": "markdown",
      "source": [
        "#### 2.2.2 Built-in Functions\n",
        "\n",
        "* To find the length of the list or the number of elements in a list, **`len()`** is used.\n",
        "* **`append()`** is used to add a single element at the end of the list.\n",
        "* Appending a list to a list would create a sublist. If a nested list is not what is desired then the **`extend()`** function can be used.\n",
        "* **`insert(x,y)`** inserts but does not replace element. If you want to replace the element with another element you simply assign the value to that particular index.\n",
        "* **`count()`** is used to count the number of a particular element that is present in the list.\n",
        "* **`index()`** is used to find the index value of a particular element. Note that if there are multiple elements of the same value then the first index value of that element is returned.\n",
        "\n",
        "There are a ton of other useful built-in functions like **`max()`**, **`min()`**, **`pop()`**, **`sort()`**, type **`help(list)`**."
      ]
    },
    {
      "metadata": {
        "id": "QhOt4W4o3VID",
        "colab_type": "code",
        "colab": {}
      },
      "cell_type": "code",
      "source": [
        "list7 = [1, 2, 3, 4, 5, 6]\n",
        "print(\"List contains\", list7)\n",
        "list7.append(7)\n",
        "print(\"Appending 7 to the list gives\", list7)\n",
        "list7.extend([8, 9, 10])\n",
        "print(\"Extending the list by several numbers gives\", list7)\n",
        "list7.insert(5, 6)\n",
        "print(\"Inserting a 6 at index 5 gives\", list7)\n",
        "print(\"The element 6 occurs %s times.\" % list7.count(6))\n",
        "print(\"The length of the list is\", len(list7))"
      ],
      "execution_count": 0,
      "outputs": []
    },
    {
      "metadata": {
        "id": "W9X1kokt3VIG",
        "colab_type": "text"
      },
      "cell_type": "markdown",
      "source": [
        "### 2.3 Tuples\n",
        "\n",
        "Tuples are similar to lists but are immutable i.e. the elements inside a tuple cannot be changed.\n",
        "\n",
        "Tuples are declared by **`()`** or **`tuple()`** or by ending a sequence with a **`,`**."
      ]
    },
    {
      "metadata": {
        "id": "cPLpuA1d3VIH",
        "colab_type": "code",
        "colab": {}
      },
      "cell_type": "code",
      "source": [
        "tup1 = []\n",
        "tup2 = tuple()\n",
        "tup3 = ('apple', 'orange')\n",
        "print(type(tup3), tup3)\n",
        "tup4 = 1,\n",
        "print(type(tup4), tup4)"
      ],
      "execution_count": 0,
      "outputs": []
    },
    {
      "metadata": {
        "id": "VuQ6t5sw3VIJ",
        "colab_type": "text"
      },
      "cell_type": "markdown",
      "source": [
        "### 2.4 Sets\n",
        "\n",
        "\n",
        "Sets are mainly used to eliminate repeated numbers in a sequence/list.\n",
        "\n",
        "Sets are declared as **`set()`** which will initialize a empty set. **`set([sequence])`** or **`{sequence}`** declares a set with elements.\n",
        "\n",
        "Sets have built-in functions for standard set operations like **`union()`**, **`intersection()`**, **`difference()`**, **`symmetric_difference()`**, **`issubset()`**, **`isdisjoint()`**, **`issuperset()`**, etc."
      ]
    },
    {
      "metadata": {
        "id": "WnOXRy_L3VIJ",
        "colab_type": "code",
        "colab": {}
      },
      "cell_type": "code",
      "source": [
        "set1 = set()\n",
        "print(\"type of set1 is\", type(set1))"
      ],
      "execution_count": 0,
      "outputs": []
    },
    {
      "metadata": {
        "id": "2yvx7U0u3VIM",
        "colab_type": "code",
        "colab": {}
      },
      "cell_type": "code",
      "source": [
        "set2 = set([1, 2, 3, 4])\n",
        "set3 = {3, 4, 5, 6, 7}\n",
        "print(\"set2 contains\", set2)\n",
        "print(\"set3 contains\", set2)\n",
        "print(\"Union is\", set2.union(set3)) # same as |\n",
        "print(\"Intersection gives\", set2.intersection(set3)) # same as &\n",
        "print(\"Difference gives\", set2.difference(set3)) # same as -\n",
        "print(\"Symmetric difference gives\", set2.symmetric_difference(set3)) # same as ^\n",
        "print(\"is set2 subset of set3?\", set2.issubset(set3)) # same as <=\n",
        "print(\"is set2 and set3 disjoint?\", set2.isdisjoint(set3))\n",
        "print(\"is set2 superset of set3?\", set2.issuperset(set3)) # same as >=\n",
        "print(\"is 4 in set2?\", (5 in set2))"
      ],
      "execution_count": 0,
      "outputs": []
    },
    {
      "metadata": {
        "id": "upmPSE6-3VIT",
        "colab_type": "text"
      },
      "cell_type": "markdown",
      "source": [
        "### 2.5 Dictionaries\n",
        "\n",
        "Dictionaries are mappings between keys and items. **Keys** in dictionaries are always **unique**.\n",
        "\n",
        "Dictionaries are declared by **`{}`** or **`dict()`**."
      ]
    },
    {
      "metadata": {
        "id": "W7RKmIZy3VIU",
        "colab_type": "code",
        "colab": {}
      },
      "cell_type": "code",
      "source": [
        "dict1 = dict()\n",
        "dict2 = {}\n",
        "dict3 = {1: 'One', 2 : 'Two', 100 : 'Hundred'}\n",
        "print(\"type of dict1 is\", type(dict1))"
      ],
      "execution_count": 0,
      "outputs": []
    },
    {
      "metadata": {
        "id": "q5WBXERC3VIc",
        "colab_type": "text"
      },
      "cell_type": "markdown",
      "source": [
        "Assign new (key, value) pairs to a dict using **`dict[key] = value`**. If key already exists the value is overwritten.\n",
        "**`keys()`** returns the list of all keys, **`values()`** return the list of all values and **`items()`** returns the list of all (key, value) pairs."
      ]
    },
    {
      "metadata": {
        "id": "OJ2okKWu3VIe",
        "colab_type": "code",
        "colab": {}
      },
      "cell_type": "code",
      "source": [
        "dict4 = {1: 'One', 'Two': 2, (1,2): 'tuple', '(1,2)': 'str'}\n",
        "print(\"List of keys in dict4:\", dict4.keys())\n",
        "print(\"List of values in dict4:\", dict4.values())\n",
        "print(\"List of items in dict4:\", dict4.items())"
      ],
      "execution_count": 0,
      "outputs": []
    },
    {
      "metadata": {
        "id": "GY94kZ8a3VIk",
        "colab_type": "text"
      },
      "cell_type": "markdown",
      "source": [
        "## 3 Control Flow Statements\n",
        "\n",
        "The key thing to note about Python's control flow statements and program structure is that it uses **indentation** to mark blocks. Hence the amount of white space (space or tab characters) at the start of a line is very important."
      ]
    },
    {
      "metadata": {
        "id": "ank13S8W3VIk",
        "colab_type": "text"
      },
      "cell_type": "markdown",
      "source": [
        "### 3.1 If Else If\n",
        "\n",
        "```python\n",
        "if some_condition:  \n",
        "    algorithm\n",
        "elif some_condition:\n",
        "    algorithm\n",
        "else:\n",
        "    algorithm```\n",
        "    \n",
        "if statements can be nested."
      ]
    },
    {
      "metadata": {
        "id": "HW6F0GRD3VIl",
        "colab_type": "code",
        "colab": {}
      },
      "cell_type": "code",
      "source": [
        "x = 10\n",
        "y = 12\n",
        "if x > y:\n",
        "    print(\"x>y\")\n",
        "elif x < y:\n",
        "    print(\"x<y\")\n",
        "else:\n",
        "    print(\"x=y\")"
      ],
      "execution_count": 0,
      "outputs": []
    },
    {
      "metadata": {
        "id": "l6-YyKHx3VIn",
        "colab_type": "text"
      },
      "cell_type": "markdown",
      "source": [
        "### 3.2 For\n",
        "\n",
        "```python\n",
        "for variable in something:\n",
        "    algorithm```\n",
        "    \n",
        "When looping over integers the **range()** function is useful which generates a range of integers:\n",
        "* range(n) =  0, 1, ..., n - 1\n",
        "* range(m,n) = m, m + 1, ..., n - 1\n",
        "* range(m,n,s) = m, m + s, m + 2s, ..., m + ((n - m - 1) // s) * s\n",
        "\n",
        "The **`enumerate()`** function gives **(index, element)** pairs while iterating over a sequence, instead of just the element."
      ]
    },
    {
      "metadata": {
        "id": "xDPaugkT3VIo",
        "colab_type": "code",
        "colab": {}
      },
      "cell_type": "code",
      "source": [
        "list_of_lists = [[1, 2, 3], [4, 5, 6], [7, 8, 9]]\n",
        "total = 0\n",
        "for each_list in list_of_lists:\n",
        "    for num in each_list:\n",
        "        total = total + num\n",
        "print(total)"
      ],
      "execution_count": 0,
      "outputs": []
    },
    {
      "metadata": {
        "id": "ucFL8PZi3VIq",
        "colab_type": "text"
      },
      "cell_type": "markdown",
      "source": [
        "### 3.3 While\n",
        "\n",
        "```python\n",
        "while some_condition:  \n",
        "    algorithm```"
      ]
    },
    {
      "metadata": {
        "id": "wNWYaogK3VIr",
        "colab_type": "code",
        "colab": {}
      },
      "cell_type": "code",
      "source": [
        "i = 1\n",
        "while i < 3:\n",
        "    print(i ** 2)\n",
        "    i = i+1\n",
        "print('Bye')"
      ],
      "execution_count": 0,
      "outputs": []
    },
    {
      "metadata": {
        "id": "k37Ru24N3VIt",
        "colab_type": "text"
      },
      "cell_type": "markdown",
      "source": [
        "### 3.4 Break\n",
        "\n",
        "As the name says. It is used to break out of a loop when a condition becomes true when executing the loop."
      ]
    },
    {
      "metadata": {
        "id": "aRbT0rb03VIt",
        "colab_type": "code",
        "colab": {}
      },
      "cell_type": "code",
      "source": [
        "for i in range(100):\n",
        "    print(i)\n",
        "    if i>=4:\n",
        "        break"
      ],
      "execution_count": 0,
      "outputs": []
    },
    {
      "metadata": {
        "id": "T0z3k_Ru3VIw",
        "colab_type": "text"
      },
      "cell_type": "markdown",
      "source": [
        "### 3.5 Continue\n",
        "\n",
        "This continues the rest of the loop. Sometimes when a condition is satisfied there are chances of the loop getting terminated. This can be avoided using continue statement. "
      ]
    },
    {
      "metadata": {
        "id": "JbF9ha-O3VIx",
        "colab_type": "code",
        "colab": {}
      },
      "cell_type": "code",
      "source": [
        "for i in range(4):\n",
        "    if i == 2:\n",
        "        print(\"Ignored\", i ** 2)\n",
        "        continue\n",
        "    print(\"Processed\", i) # this statement is not reach if i > 4"
      ],
      "execution_count": 0,
      "outputs": []
    },
    {
      "metadata": {
        "id": "cWOfm6Q53VI0",
        "colab_type": "text"
      },
      "cell_type": "markdown",
      "source": [
        "### 3.6 Catching exceptions\n",
        "\n",
        "Some errors may not necessitate interrupting the program. A try block allows you to catch exceptions that happen anywhere during the exeuction of the try block and let you deal with it:\n",
        "```python\n",
        "try:\n",
        "    code\n",
        "except <Exception Type> as <variable name>:\n",
        "    # deal with error of this type\n",
        "except:\n",
        "    # deal with any error```"
      ]
    },
    {
      "metadata": {
        "id": "88_zdD2r3VI1",
        "colab_type": "code",
        "colab": {}
      },
      "cell_type": "code",
      "source": [
        "for i in [2,1.5,0.0,3]:\n",
        "    inv_sum = 0\n",
        "    try:\n",
        "        inverse = 1.0/i\n",
        "        inv_sum += inverse\n",
        "    except ZeroDivisionError as e: # no matter what exception\n",
        "        print(e)\n",
        "print(inv_sum)"
      ],
      "execution_count": 0,
      "outputs": []
    },
    {
      "metadata": {
        "id": "niCtywje3VI4",
        "colab_type": "text"
      },
      "cell_type": "markdown",
      "source": [
        "## 4 Functions\n",
        "\n",
        "In programmming, functions are a mechansim to allow code to be re-used so that complex programs can be built up out of simpler parts. This is the basic syntax of a function:\n",
        "\n",
        "```python\n",
        "def funcname(arg1, arg2,..., argN-i=<default_value>, argN-i+1=<default_value>,..., argN=<default_value>):\n",
        "    statements\n",
        "    return <value>```\n",
        "    \n",
        "Return values are optional (by default every function returns **None** if no return statement is executed)"
      ]
    },
    {
      "metadata": {
        "id": "LD7v35PQ3VI4",
        "colab_type": "code",
        "colab": {}
      },
      "cell_type": "code",
      "source": [
        "x = range(10)\n",
        "def func1(num_list):\n",
        "    ''' Function takes list of numbers as argument.\n",
        "        Return the highest, lowest, first and last element in the list.\n",
        "    '''\n",
        "    highest = max(num_list)\n",
        "    lowest = min(num_list)\n",
        "    first = num_list[0]\n",
        "    last = num_list[-1]\n",
        "    return highest, lowest, first, last\n",
        "print(\"highest %d, lowest %d, first %d, last %d.\" % func1(x))"
      ],
      "execution_count": 0,
      "outputs": []
    },
    {
      "metadata": {
        "id": "yKDswess3VI_",
        "colab_type": "text"
      },
      "cell_type": "markdown",
      "source": [
        "### 4.1 Scope of Variables\n",
        "\n",
        "Whatever variable is declared inside a function is local variable and outside the function in global variable.\n",
        "\n",
        "A global variable can be called from anywhere using the `global` keyword. Global values should be used sparingly as they make functions harder to re-use."
      ]
    },
    {
      "metadata": {
        "id": "34Jctaiw3VJA",
        "colab_type": "code",
        "colab": {}
      },
      "cell_type": "code",
      "source": [
        "x = 1\n",
        "y = 3\n",
        "print(\"initiate x =\", x)\n",
        "print(\"initiate y =\", y)\n",
        "def func2():\n",
        "    global x\n",
        "    x = 2 # global variable \n",
        "    y = 4 # local variable\n",
        "    print(\"inside func x is\", x)\n",
        "    print(\"inside func y is\", y)\n",
        "func2()\n",
        "print(\"outside func x =\", x)\n",
        "print(\"outside func y =\", y)"
      ],
      "execution_count": 0,
      "outputs": []
    },
    {
      "metadata": {
        "id": "UP1byFExtolU",
        "colab_type": "text"
      },
      "cell_type": "markdown",
      "source": [
        "### 4.2 Lambda Functions\n",
        "\n",
        "These are small functions which are not defined with any name and carry a single expression whose result is returned. Lambda functions comes very handy when operating with lists. These function are defined as:\n",
        "```\n",
        "lamba var1, var2, ..., varN: algorithm\n",
        "```\n",
        "\n",
        "The **map()** function takes as input a function and applies to a list/sequence."
      ]
    },
    {
      "metadata": {
        "id": "V8hzcu1_tlRe",
        "colab_type": "code",
        "colab": {}
      },
      "cell_type": "code",
      "source": [
        "fahrenheit = [20, 25, 30]\n",
        "celsius = map(lambda x: (float(9) / 5) * x + 32, fahrenheit)\n",
        "print(list(celsius))"
      ],
      "execution_count": 0,
      "outputs": []
    },
    {
      "metadata": {
        "id": "YZj_OOOL3VJF",
        "colab_type": "text"
      },
      "cell_type": "markdown",
      "source": [
        "### 4.3 Chaining Functions\n",
        "\n",
        "In python functions can be chained i.e. you can call a function on the output of another function directly in a single line."
      ]
    },
    {
      "metadata": {
        "id": "pEJE3Osc3VJF",
        "colab_type": "code",
        "colab": {}
      },
      "cell_type": "code",
      "source": [
        "def square(num_list):\n",
        "    for i, num in enumerate(num_list):\n",
        "        num_list[i] = (num ** 2)\n",
        "    return num_list\n",
        "\n",
        "def cumsum(num_list):\n",
        "    cum_sum = 0\n",
        "    for i, num in enumerate(num_list):\n",
        "        cum_sum += num\n",
        "        num_list[i] = cum_sum\n",
        "    return num_list\n",
        "\n",
        "def average(num_list):\n",
        "    return sum(num_list)/len(num_list)\n",
        "\n",
        "x = [1, 2, 3, 5, 8, 7, 6]\n",
        "print(average(cumsum(square(x))))"
      ],
      "execution_count": 0,
      "outputs": []
    },
    {
      "metadata": {
        "id": "gXUJcGRt3VJJ",
        "colab_type": "text"
      },
      "cell_type": "markdown",
      "source": [
        "### 4.4 List Comprehension\n",
        "\n",
        "A very powerful concept in Python (that also applies to Tuples, sets and dictionaries as we will see below), is the ability to define lists using list comprehension (looping) expression."
      ]
    },
    {
      "metadata": {
        "id": "Vk34a-rT3VJK",
        "colab_type": "code",
        "colab": {}
      },
      "cell_type": "code",
      "source": [
        "x = [1, 2, 3, 5, 8, 7, 6]\n",
        "print(average(cumsum([i ** 2 for i in x])))"
      ],
      "execution_count": 0,
      "outputs": []
    },
    {
      "metadata": {
        "id": "fUutmVF_3VJN",
        "colab_type": "text"
      },
      "cell_type": "markdown",
      "source": [
        "### 4.5 Importing Libraries\n",
        "\n",
        "Python has an extensive collection of external libraries whoch contains many standard functions required for different applications.\n",
        "\n",
        "External libraries are used with the `import <libname>` keyword. You can also use `from <libname> import <funcname>` for individual functions. Within a library a function is referenced as `<libname>.<funcname>`. You can import a library using a custom name by `import <libname> as <customname>`."
      ]
    },
    {
      "metadata": {
        "id": "GENFKplk3VJN",
        "colab_type": "code",
        "colab": {}
      },
      "cell_type": "code",
      "source": [
        "import numpy as np\n",
        "\n",
        "x = [1, 2, 3, 5, 8, 7, 6]\n",
        "print(np.mean(np.cumsum([i ** 2 for i in x])))"
      ],
      "execution_count": 0,
      "outputs": []
    },
    {
      "metadata": {
        "id": "J2WgVglplPyH",
        "colab_type": "text"
      },
      "cell_type": "markdown",
      "source": [
        "## 5 File I/O\n",
        "\n",
        "* **`open()`** returns a file object, and is most commonly used with two arguments:  filename and mode. The common modes are:\n",
        "    * r: read-only\n",
        "    * w: overwrite\n",
        "    * a: append\n",
        "\n",
        "* **`close()`** closes a file object.\n",
        "* Use **`with`** for handling files to enable automatic closing.\n",
        "* There are many ways to read from or write into a file. Use `for` loop to iterate through a file and use `print()` command with **`file=file_handle`** to write."
      ]
    },
    {
      "metadata": {
        "id": "7kS6UFytzKE8",
        "colab_type": "code",
        "colab": {}
      },
      "cell_type": "code",
      "source": [
        "fout = open('test_file.txt', 'w')\n",
        "print(\"This is the first line.\", file=fout)\n",
        "print(\"This is the second line.\", file=fout)\n",
        "print(\"This is the last line.\", file=fout)\n",
        "fout.close()\n",
        "\n",
        "with open('test_file.txt') as fin:\n",
        "    print(\"Reading from test_file.txt that we just wrote to.\")\n",
        "    for line in fin:\n",
        "        print(line, end='')"
      ],
      "execution_count": 0,
      "outputs": []
    },
    {
      "metadata": {
        "id": "FNpJ4IWn0wO1",
        "colab_type": "text"
      },
      "cell_type": "markdown",
      "source": [
        "## 6 Classes\n",
        "\n",
        "A class is declared as follows:\n",
        "```python\n",
        "class class_name:\n",
        "    methods (functions)```\n",
        "All variables in pythons are objects. Objects are instances of a class."
      ]
    },
    {
      "metadata": {
        "id": "iWdvTQTv1igV",
        "colab_type": "code",
        "colab": {}
      },
      "cell_type": "code",
      "source": [
        "class Counter:\n",
        "    def __init__(self, init=0):\n",
        "        self.count = init\n",
        "    def reset(self):\n",
        "        self.count = 0\n",
        "    def getCount(self):\n",
        "        self.count += 1\n",
        "        return self.count\n",
        "\n",
        "counter = Counter(5)\n",
        "print(\"Initial value of counter:\", counter.count)\n",
        "counter.reset()\n",
        "print(\"Value of counter after reset:\", counter.count)\n",
        "print(\"one =\",counter.getCount(),\"two =\",counter.getCount(),\"three =\",counter.getCount())"
      ],
      "execution_count": 0,
      "outputs": []
    },
    {
      "metadata": {
        "id": "lCO6WdU92b-y",
        "colab_type": "text"
      },
      "cell_type": "markdown",
      "source": [
        "# Intro to Useful Libraries"
      ]
    },
    {
      "metadata": {
        "id": "Pen7v4xBpRpz",
        "colab_type": "text"
      },
      "cell_type": "markdown",
      "source": [
        "## 1 Pandas \n",
        "\n",
        "pandas is a column-oriented data analysis API. It's a great tool for handling and analyzing input data, and many ML frameworks support pandas data structures as inputs.\n",
        "\n",
        "The primary data structures in pandas are implemented as two classes:\n",
        "\n",
        "  * **`DataFrame`**, which you can imagine as a relational data table, with rows and named columns.\n",
        "  * **`Series`**, which is a single column. A `DataFrame` contains one or more `Series` and a name for each `Series`.\n",
        "  \n",
        "`DataFrame` objects can be created by passing a `dict` mapping `string` column names to their respective `Series`. If the `Series` don't match in length, missing values are filled with special NA/NaN."
      ]
    },
    {
      "metadata": {
        "id": "FpPhE-qEpwjI",
        "colab_type": "code",
        "colab": {}
      },
      "cell_type": "code",
      "source": [
        "import pandas as pd\n",
        "city_names = pd.Series(['San Francisco', 'San Jose', 'Sacramento'])\n",
        "population = pd.Series([852469, 1015785, 485199])\n",
        "\n",
        "cities = pd.DataFrame({ 'City name': city_names, 'Population': population })\n",
        "cities"
      ],
      "execution_count": 0,
      "outputs": []
    },
    {
      "metadata": {
        "id": "YxQ8riZJqiF7",
        "colab_type": "text"
      },
      "cell_type": "markdown",
      "source": [
        "But most of the time, you load an entire file into a DataFrame. The following example loads a file with California housing data.\n",
        "\n",
        "* The **`describe()`**  function shows interesting statistics about a `DataFrame`.\n",
        "* Another useful function is **`head()`**, which displays the first few records of a `DataFrame`. Similarly, **`tail()`** displays the last dew records.\n",
        "* Another powerful feature is graphing. For example, **`hist()`** lets you quickly study the distribution of values in a column."
      ]
    },
    {
      "metadata": {
        "id": "acBYRgSVqlx4",
        "colab_type": "code",
        "colab": {}
      },
      "cell_type": "code",
      "source": [
        "housing_dataframe = pd.read_csv(\"https://storage.googleapis.com/mledu-datasets/california_housing_train.csv\", sep=\",\")\n",
        "housing_dataframe.describe()"
      ],
      "execution_count": 0,
      "outputs": []
    },
    {
      "metadata": {
        "id": "mUeOr6ujrVjf",
        "colab_type": "code",
        "colab": {}
      },
      "cell_type": "code",
      "source": [
        "housing_dataframe.head()"
      ],
      "execution_count": 0,
      "outputs": []
    },
    {
      "metadata": {
        "id": "giz68R2Xron_",
        "colab_type": "code",
        "colab": {}
      },
      "cell_type": "code",
      "source": [
        "housing_dataframe.hist('median_income')"
      ],
      "execution_count": 0,
      "outputs": []
    },
    {
      "metadata": {
        "id": "ssku-havsGSI",
        "colab_type": "text"
      },
      "cell_type": "markdown",
      "source": [
        "You can access DataFrame data using familiar Python dict/list operations. You may apply Python's basic arithmetic operations to Series. Modifying DataFrames is also straightforward."
      ]
    },
    {
      "metadata": {
        "id": "iOcxg-pnsbR4",
        "colab_type": "code",
        "colab": {}
      },
      "cell_type": "code",
      "source": [
        "cities['Area square miles'] = pd.Series([46.87, 176.53, 97.92])\n",
        "cities['Population density'] = cities['Population'] / cities['Area square miles']\n",
        "cities"
      ],
      "execution_count": 0,
      "outputs": []
    },
    {
      "metadata": {
        "id": "WBz9WHQQwtPu",
        "colab_type": "text"
      },
      "cell_type": "markdown",
      "source": [
        "For more complex single-column transformations, you can use **`apply()`**. It accepts as an argument a lambda function, which is applied to each value."
      ]
    },
    {
      "metadata": {
        "id": "6_oJMLVVw6I6",
        "colab_type": "code",
        "colab": {}
      },
      "cell_type": "code",
      "source": [
        "cities['Overpopulated'] = cities['Population'].apply(lambda val: val > 1000000)\n",
        "cities"
      ],
      "execution_count": 0,
      "outputs": []
    },
    {
      "metadata": {
        "id": "XC1TozbU3HQk",
        "colab_type": "text"
      },
      "cell_type": "markdown",
      "source": [
        "## 2 Numpy\n",
        "\n",
        "NumPy’s main object is the homogeneous multidimensional array. It is a table of elements (usually numbers), all of the same type, indexed by a tuple of positive integers. NumPy’s array class is called ndarray.\n",
        "\n",
        "You can create an array from a regular Python list or tuple using the **`array()`** function. Some important attributes of an ndarray object are:\n",
        "\n",
        "* **`ndarray.ndim`**: the number of axes (dimensions) of the array.\n",
        "* **`ndarray.shape`**: the dimensions of the array. The length of the shape tuple is therefore the number of axes, ndim.\n",
        "* **`ndarray.size`**: the total number of elements of the array. This is equal to the product of the elements of shape.\n",
        "* **`ndarray.dtype`**: an object describing the type of the elements in the array. One can create or specify dtype’s using standard Python types. Additionally NumPy provides types of its own. numpy.int32, numpy.int16, and numpy.float64 are some examples.\n",
        "* **`ndarray.data`**: the buffer containing the actual elements of the array. Normally, we won’t need to use this attribute because we will access the elements in an array using indexing facilities.\n",
        "\n",
        "There are numerous other ways to initialize an array like **`zeros`**, **`zeros_like`**, **`ones`**, **`ones_like`**, **`empty`**, **`empty_like`**, **`arange`**, **`linspace`**, **`numpy.random.rand`**, **`numpy.random.randn`**, etc."
      ]
    },
    {
      "metadata": {
        "id": "szkmteik7I8Y",
        "colab_type": "code",
        "colab": {}
      },
      "cell_type": "code",
      "source": [
        "import numpy as np\n",
        "array1 = np.array([1, 3, 8, 2, 6])\n",
        "print(\"Shape of array1 is\", array1.shape)\n",
        "array2 = np.array([[1, 3, 8, 2, 6], [12, 1, 2, 5, 4]])\n",
        "print(\"No of dim in array2 is\", array2.ndim)\n",
        "print(\"Shape of array2 is\", array2.shape)\n",
        "print(\"Size of array2 is\", array2.size)\n",
        "print(\"Data type of array2 is\", array2.dtype)\n",
        "print(\"Array creation using ones gives\\n\", np.ones((2, 5, 2)))"
      ],
      "execution_count": 0,
      "outputs": []
    },
    {
      "metadata": {
        "id": "ycYpdJZ687fu",
        "colab_type": "text"
      },
      "cell_type": "markdown",
      "source": [
        "Arithmetic operators on arrays apply elementwise. A new array is created and filled with the result.\n",
        "\n",
        "One-dimensional arrays can be indexed, sliced and iterated over, much like lists and other Python sequences. Multidimensional arrays can have one index per axis. These indices are given in a tuple separated by commas.\n",
        "\n",
        "The shape of an array can be changed by **`reshape()`** command. It returns a modified array, but does not change the original array. There are other shape changing commands like **`ravel()`**, **`T`**, etc.\n",
        "\n"
      ]
    },
    {
      "metadata": {
        "id": "AwzxHD9-9A6j",
        "colab_type": "code",
        "colab": {}
      },
      "cell_type": "code",
      "source": [
        "array1 = np.random.randint(1, 10, size=(3, 6))\n",
        "print(\"Original array:\\n\", array1)\n",
        "print(\"\\nSquared array:\\n\", array1 ** 2)\n",
        "print(\"\\nLog of array:\\n\", np.log(array1))\n",
        "print(\"\\nMulti-dimensional slicing:\\n\", array1[2, 1:5])\n",
        "print(\"\\nReshaped array:\\n\", array1.reshape(2, 9))"
      ],
      "execution_count": 0,
      "outputs": []
    },
    {
      "metadata": {
        "id": "JnblLmWI3Kzq",
        "colab_type": "text"
      },
      "cell_type": "markdown",
      "source": [
        "## 3 Matplotlib\n",
        "matplotlib.pyplot is a collection of command style functions that make matplotlib work like MATLAB. Each pyplot function makes some change to a figure: e.g., creates a figure, creates a plotting area in a figure, plots some lines in a plotting area, decorates the plot with labels, etc.\n",
        "\n",
        "The two most important commands are **`plot()`** and **`show()`**. Without further discussion let's just look at an example."
      ]
    },
    {
      "metadata": {
        "id": "_xNso2yi_2GL",
        "colab_type": "code",
        "colab": {}
      },
      "cell_type": "code",
      "source": [
        "import matplotlib.pyplot as plt\n",
        "plt.plot([1, 2, 3, 4])\n",
        "plt.ylabel('some numbers')\n",
        "plt.show()"
      ],
      "execution_count": 0,
      "outputs": []
    },
    {
      "metadata": {
        "id": "oEu6go3tAFCw",
        "colab_type": "text"
      },
      "cell_type": "markdown",
      "source": [
        " If you provide a single list or array to the plot() command, matplotlib assumes it is a sequence of y values, and automatically generates the x values for you. So let's try something else."
      ]
    },
    {
      "metadata": {
        "id": "iGstZ6YuAL5s",
        "colab_type": "code",
        "colab": {}
      },
      "cell_type": "code",
      "source": [
        "plt.plot([1, 2, 3, 4], [1, 4, 9, 16])"
      ],
      "execution_count": 0,
      "outputs": []
    },
    {
      "metadata": {
        "id": "xgWiJ5FRAXDb",
        "colab_type": "text"
      },
      "cell_type": "markdown",
      "source": [
        "We can add further customization like axis labels, legend, caption, plot style, etc. You know what to do for more information."
      ]
    },
    {
      "metadata": {
        "id": "_9DXvBPdAeCS",
        "colab_type": "code",
        "colab": {}
      },
      "cell_type": "code",
      "source": [
        "import numpy as np\n",
        "t = np.arange(0., 5., 0.2)\n",
        "\n",
        "# red dashes, blue squares and green triangles\n",
        "plt.plot(t, t, 'r--', t, t**2, 'bs', t, t**3, 'g^')\n",
        "plt.xlabel('x axis')\n",
        "plt.ylabel('values')\n",
        "plt.title('Different powers of array t.')\n",
        "plt.legend(['linear', 'square', 'cube'])\n",
        "plt.show()"
      ],
      "execution_count": 0,
      "outputs": []
    },
    {
      "metadata": {
        "id": "jPIQz_PRB0WD",
        "colab_type": "text"
      },
      "cell_type": "markdown",
      "source": [
        "One last example with multiple plots."
      ]
    },
    {
      "metadata": {
        "id": "mWSI_i2gB9_n",
        "colab_type": "code",
        "colab": {}
      },
      "cell_type": "code",
      "source": [
        "names = ['group_a', 'group_b', 'group_c']\n",
        "values = [1, 10, 100]\n",
        "\n",
        "plt.figure(1, figsize=(9, 3))\n",
        "\n",
        "plt.subplot(131)\n",
        "plt.bar(names, values)\n",
        "plt.subplot(132)\n",
        "plt.scatter(names, values)\n",
        "plt.subplot(133)\n",
        "plt.plot(names, values)\n",
        "plt.suptitle('Categorical Plotting')\n",
        "plt.show()"
      ],
      "execution_count": 0,
      "outputs": []
    },
    {
      "metadata": {
        "id": "OuHOFgSV73xj",
        "colab_type": "text"
      },
      "cell_type": "markdown",
      "source": [
        "# Useful Resources\n",
        "\n",
        "* [Head First Python - O'Reilly.](http://shop.oreilly.com/product/0636920003434.do)\n",
        "* [Python official documentation.](https://docs.python.org/3.6/)\n",
        "* [Matplotlib official user's guide.](https://matplotlib.org/users/index.html)\n",
        "* [Pandas official documentation.](https://pandas.pydata.org/pandas-docs/version/0.22/)\n",
        "* [Numpy official docmentation.](https://docs.scipy.org/doc/numpy-1.14.0/reference/)\n",
        "* [A gallery of interesting notebooks.](https://github.com/jupyter/jupyter/wiki/A-gallery-of-interesting-Jupyter-Notebooks)"
      ]
    },
    {
      "metadata": {
        "id": "ja5PHojK3VJT",
        "colab_type": "text"
      },
      "cell_type": "markdown",
      "source": [
        "# References\n",
        "\n",
        "* [Learn Python in 10 minutes by Stavros Korokithakis.](https://www.stavros.io/tutorials/python/)\n",
        "* [Python4maths repo  by Andreas Earnst.](https://gitlab.erc.monash.edu.au/andrease/Python4Maths)"
      ]
    }
  ]
}
